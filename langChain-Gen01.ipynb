{
 "cells": [
  {
   "cell_type": "code",
   "execution_count": 1,
   "id": "b94eca20",
   "metadata": {},
   "outputs": [],
   "source": [
    "%load_ext dotenv\n",
    "%dotenv"
   ]
  },
  {
   "cell_type": "code",
   "execution_count": 2,
   "id": "7d982e42",
   "metadata": {},
   "outputs": [],
   "source": [
    "from langchain_openai import AzureOpenAIEmbeddings\n",
    "from langchain_chroma import Chroma\n",
    "from langchain_core.prompts import PromptTemplate\n",
    "from langchain_openai import AzureChatOpenAI\n",
    "from langchain_core.runnables import RunnablePassthrough\n",
    "from langchain_core.runnables import RunnableParallel\n",
    "from langchain_core.output_parsers import StrOutputParser"
   ]
  },
  {
   "cell_type": "code",
   "execution_count": 4,
   "id": "9d71409a",
   "metadata": {},
   "outputs": [],
   "source": [
    "emb = AzureOpenAIEmbeddings(model='text-embedding-ada-002')\n",
    "vectorstore = Chroma(persist_directory='./data',embedding_function=emb)"
   ]
  },
  {
   "cell_type": "code",
   "execution_count": 6,
   "id": "28606828",
   "metadata": {},
   "outputs": [
    {
     "data": {
      "text/plain": [
       "41"
      ]
     },
     "execution_count": 6,
     "metadata": {},
     "output_type": "execute_result"
    }
   ],
   "source": [
    "len(vectorstore.get()['documents'])"
   ]
  },
  {
   "cell_type": "code",
   "execution_count": 8,
   "id": "772c168e",
   "metadata": {},
   "outputs": [],
   "source": [
    "retriever = vectorstore.as_retriever(\n",
    "    search_type='mmr',\n",
    "    search_kwargs={\n",
    "        'k': 5,\n",
    "        'lambda_mult':0.4\n",
    "        })"
   ]
  },
  {
   "cell_type": "code",
   "execution_count": null,
   "id": "86b84a27",
   "metadata": {},
   "outputs": [],
   "source": [
    "# context に、検索結果のドキュメントをそのまま埋め込んでいく(Stuffing)\n",
    "# Document の List が長いと、List の 最初と最後が重視されるという特徴がある\n",
    "TEMPLATE = '''\n",
    "Answer the following question:\n",
    "{question}\n",
    "\n",
    "To answer the question, use only the following context:\n",
    "{context}\n",
    "\n",
    "At the end of the response, specify the name of the lecture this context is taken from in the format:\n",
    "Resources: *Lecture Title*\n",
    "where *Lecture Title* should be substituted with the title of all resource lectures.\n",
    "'''\n",
    "\n",
    "prompt_template = PromptTemplate.from_template(TEMPLATE)"
   ]
  },
  {
   "cell_type": "code",
   "execution_count": 32,
   "id": "b02f1e69",
   "metadata": {},
   "outputs": [],
   "source": [
    "llm = AzureChatOpenAI(\n",
    "    azure_deployment=\"gpt-4o\",\n",
    "    api_version=\"2025-01-01-preview\",\n",
    "    temperature=0,\n",
    "    max_tokens=None,\n",
    "    timeout=None,\n",
    "    max_retries=6\n",
    ")"
   ]
  },
  {
   "cell_type": "code",
   "execution_count": 12,
   "id": "699a9aca",
   "metadata": {},
   "outputs": [],
   "source": [
    "q = 'what software do data scientists use?'"
   ]
  },
  {
   "cell_type": "code",
   "execution_count": 15,
   "id": "3b4eb353",
   "metadata": {},
   "outputs": [
    {
     "data": {
      "text/plain": [
       "{'context': [Document(id='2853e743-e11c-461b-9fd8-ce921810fe57', metadata={'section title': 'Programming Languages & Software Employed in Data Science - All the Tools You Need', 'course title': 'Introduction'}, page_content='As you can see from the infographic, R, and Python are the two most popular tools across all columns. Their biggest advantage is that they can manipulate data and are integrated within multiple data and data science software platforms. They are not just suitable for mathematical and statistical computations. In other words, R, and Python are adaptable. They can solve a wide variety of business and data-related problems from beginning to the end'),\n",
       "  Document(id='e1420b4c-035e-4f02-a644-42e40c09b5e5', metadata={'section title': 'Programming Languages & Software Employed in Data Science - All the Tools You Need', 'course title': 'Introduction'}, page_content='Alright! So… How are the techniques used in data, business intelligence, or predictive analytics applied in real life? Certainly, with the help of computers. You can basically split the relevant tools into two categories—programming languages and software. Knowing a programming language enables you to devise programs that can execute specific operations. Moreover, you can reuse these programs whenever you need to execute the same action'),\n",
       "  Document(id='47d2f7a1-fe08-4626-99c1-f2ff53073504', metadata={'course title': 'Introduction', 'section title': 'Programming Languages & Software Employed in Data Science - All the Tools You Need'}, page_content='Among the many applications we have plotted, we can say there is an increasing amount of software designed for working with big data such as Apache Hadoop, Apache Hbase, and Mongo DB. In terms of big data, Hadoop is the name that must stick with you. Hadoop is listed as a software in the sense that it is a collection of programs, but don’t imagine it as a nice-looking application'),\n",
       "  Document(id='f9644050-222d-410c-82fd-d2f4b4f14a07', metadata={'section title': 'Programming Languages & Software Employed in Data Science - All the Tools You Need', 'course title': 'Introduction'}, page_content='Great! We hope we gave you a good idea about the level of applicability of the most frequently used programming and software tools in the field of data science. Thank you for watching!'),\n",
       "  Document(id='7fa86495-27fe-4f76-b85b-ceee6f5721bc', metadata={'section title': 'Programming Languages & Software Employed in Data Science - All the Tools You Need', 'course title': 'Introduction'}, page_content='Their smaller scope does not make them less useful, in fact, just the opposite—they are a lot easier to learn and be adopted by others. You have already heard of several of those. Because of its ability to do relatively complex computations and good visualizations quickly, Excel is a tool applicable to more than one category—traditional data, BI, and Data Science. Similarly, SPSS is a very famous tool for working with traditional data and applying statistical analysis')],\n",
       " 'question': 'what software do data scientists use?'}"
      ]
     },
     "execution_count": 15,
     "metadata": {},
     "output_type": "execute_result"
    }
   ],
   "source": [
    "# このコードは、質問 q を retriever に投げて関連ドキュメント（context）を取得し、同時に question に q をそのまま残した結果（例: {\"context\": <retrieverの出力>, \"question\": \"...\" }）を返します。\n",
    "# 最終的には、プロンプトに入れるための dict を作りたい\n",
    "# RunnableParallel は、中に定義している dict で定義された関数に対して、同じ入力(invoke() の引数)を与えて並列に実行し、その結果を dict で返す\n",
    "chain = RunnableParallel({'context': retriever,\n",
    "         'question': RunnablePassthrough()})\n",
    "chain.invoke(q)"
   ]
  },
  {
   "cell_type": "code",
   "execution_count": 18,
   "id": "7bd1a032",
   "metadata": {},
   "outputs": [],
   "source": [
    "# prompt_value = prompt_template.invoke(chain.invoke(q))\n",
    "# print(prompt_value)"
   ]
  },
  {
   "cell_type": "code",
   "execution_count": 35,
   "id": "d920b89a",
   "metadata": {},
   "outputs": [],
   "source": [
    "# chain で書く\n",
    "chain = ({'context': retriever, 'question': RunnablePassthrough()} | prompt_template | llm | StrOutputParser())"
   ]
  },
  {
   "cell_type": "code",
   "execution_count": 36,
   "id": "0e572b66",
   "metadata": {},
   "outputs": [
    {
     "data": {
      "text/plain": [
       "'Data scientists use a variety of software tools to perform their tasks. The most popular programming languages are **R** and **Python**, which are highly adaptable and capable of handling mathematical, statistical computations, and solving diverse business and data-related problems. For big data applications, tools like **Apache Hadoop**, **Apache Hbase**, and **MongoDB** are commonly employed, with Hadoop being particularly notable for its ability to manage large-scale data processing. Additionally, tools like **Excel** and **SPSS** are widely used for statistical analysis and data visualization, offering ease of use and applicability across multiple categories such as traditional data, business intelligence, and data science.\\n\\nResources: *Programming Languages & Software Employed in Data Science - All the Tools You Need*'"
      ]
     },
     "execution_count": 36,
     "metadata": {},
     "output_type": "execute_result"
    }
   ],
   "source": [
    "chain.invoke(q)"
   ]
  },
  {
   "cell_type": "markdown",
   "id": "32e3d012",
   "metadata": {},
   "source": [
    "# Document Refinement\n",
    "Stuffing の代替策として、Document Refinement がある。これは、都度与える Document は１つで、前の Document に対する結果を Prompt に入れていく方法。コンテキストとして与えるドキュメントのサイズは小さくできるが、LLM のコール数が増える"
   ]
  },
  {
   "cell_type": "markdown",
   "id": "746cb2bd",
   "metadata": {},
   "source": []
  }
 ],
 "metadata": {
  "kernelspec": {
   "display_name": "py312",
   "language": "python",
   "name": "python3"
  },
  "language_info": {
   "codemirror_mode": {
    "name": "ipython",
    "version": 3
   },
   "file_extension": ".py",
   "mimetype": "text/x-python",
   "name": "python",
   "nbconvert_exporter": "python",
   "pygments_lexer": "ipython3",
   "version": "3.12.11"
  }
 },
 "nbformat": 4,
 "nbformat_minor": 5
}

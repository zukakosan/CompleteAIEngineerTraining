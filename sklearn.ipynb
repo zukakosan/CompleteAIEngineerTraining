{
 "cells": [
  {
   "cell_type": "code",
   "execution_count": 3,
   "id": "08f9405c",
   "metadata": {},
   "outputs": [
    {
     "name": "stdout",
     "output_type": "stream",
     "text": [
      "   data  enjoy  fascinating  great  in  is  language  learning  love  new  \\\n",
      "0     0      0            0      0   1   0         0         0     1    0   \n",
      "1     0      0            0      1   0   1         1         0     0    0   \n",
      "2     0      1            0      0   0   0         0         1     0    1   \n",
      "3     1      0            1      0   0   1         0         0     0    0   \n",
      "\n",
      "   programming  python  science  things  \n",
      "0            1       1        0       0  \n",
      "1            0       1        0       0  \n",
      "2            0       0        0       1  \n",
      "3            0       0        1       0  \n"
     ]
    }
   ],
   "source": [
    "import pandas as pd\n",
    "from sklearn.feature_extraction.text import CountVectorizer\n",
    "\n",
    "# Sample data\n",
    "data = {\n",
    "    'text': [\n",
    "        'I love programming in Python',\n",
    "        'Python is a great language',\n",
    "        'I enjoy learning new things',\n",
    "        'Data science is fascinating'\n",
    "    ]\n",
    "}\n",
    "\n",
    "# Create a DataFrame\n",
    "df = pd.DataFrame(data)\n",
    "\n",
    "# Initialize CountVectorizer\n",
    "vectorizer = CountVectorizer()\n",
    "\n",
    "# Fit and transform the text data\n",
    "X = vectorizer.fit_transform(df['text'])\n",
    "\n",
    "# Convert the result to a DataFrame\n",
    "X_df = pd.DataFrame(X.toarray(), columns=vectorizer.get_feature_names_out())\n",
    "\n",
    "# Display the result\n",
    "print(X_df)"
   ]
  },
  {
   "cell_type": "code",
   "execution_count": null,
   "id": "e20d6ee2",
   "metadata": {},
   "outputs": [],
   "source": []
  }
 ],
 "metadata": {
  "kernelspec": {
   "display_name": "py312",
   "language": "python",
   "name": "python3"
  },
  "language_info": {
   "codemirror_mode": {
    "name": "ipython",
    "version": 3
   },
   "file_extension": ".py",
   "mimetype": "text/x-python",
   "name": "python",
   "nbconvert_exporter": "python",
   "pygments_lexer": "ipython3",
   "version": "3.12.11"
  }
 },
 "nbformat": 4,
 "nbformat_minor": 5
}

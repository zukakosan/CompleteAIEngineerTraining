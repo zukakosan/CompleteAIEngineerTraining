{
 "cells": [
  {
   "cell_type": "code",
   "execution_count": 2,
   "id": "921c2ef5",
   "metadata": {},
   "outputs": [],
   "source": [
    "import os\n",
    "from openai import AzureOpenAI\n",
    "from azure.identity import ClientSecretCredential, get_bearer_token_provider\n",
    "# Azure OpenAI Service Integration with LangChain\n",
    "from langchain_openai.chat_models import AzureChatOpenAI\n",
    "from langchain.schema import HumanMessage, SystemMessage"
   ]
  },
  {
   "cell_type": "code",
   "execution_count": 3,
   "id": "35f9da3c",
   "metadata": {},
   "outputs": [],
   "source": [
    "# environment variables whose names are AZURE_OPENAI_API_KEY, AZURE_OPENAI_ENDPOINT are needed\n",
    "%load_ext dotenv\n",
    "%dotenv"
   ]
  },
  {
   "cell_type": "code",
   "execution_count": 4,
   "id": "9861879c",
   "metadata": {},
   "outputs": [],
   "source": [
    "# credential = ClientSecretCredential(\n",
    "#     tenant_id=os.environ['tenant_id'],\n",
    "#     client_id=os.environ['client_id'],\n",
    "#     client_secret=os.environ['client_secret']\n",
    "# )\n",
    "# token_provider = get_bearer_token_provider(\n",
    "#     credential,\n",
    "#     \"https://cognitiveservices.azure.com/.default\"\n",
    "# )\n",
    "# api_version = \"2025-01-01-preview\"  # Use the latest API version\n",
    "\n",
    "# client = AzureOpenAI(\n",
    "#     api_version=api_version,\n",
    "#     azure_endpoint=os.environ['OPENAI_ENDPOINT'],\n",
    "#     azure_ad_token_provider=token_provider\n",
    "# )"
   ]
  },
  {
   "cell_type": "code",
   "execution_count": 5,
   "id": "3c8e8eb6",
   "metadata": {},
   "outputs": [],
   "source": [
    "llm = AzureChatOpenAI(\n",
    "    azure_deployment=\"gpt-4o\",\n",
    "    api_version=\"2025-01-01-preview\",\n",
    "    temperature=0,\n",
    "    max_tokens=None,\n",
    "    timeout=None,\n",
    "    max_retries=6\n",
    ")"
   ]
  },
  {
   "cell_type": "code",
   "execution_count": 6,
   "id": "1724b6ca",
   "metadata": {},
   "outputs": [
    {
     "data": {
      "text/plain": [
       "AIMessage(content=\"Sure! Here’s a list of 30 dog names for inspiration:\\n\\n1. Bella  \\n2. Max  \\n3. Luna  \\n4. Charlie  \\n5. Daisy  \\n6. Cooper  \\n7. Lucy  \\n8. Milo  \\n9. Bailey  \\n10. Sadie  \\n11. Rocky  \\n12. Molly  \\n13. Buddy  \\n14. Zoey  \\n15. Teddy  \\n16. Chloe  \\n17. Duke  \\n18. Ruby  \\n19. Finn  \\n20. Stella  \\n21. Toby  \\n22. Willow  \\n23. Jack  \\n24. Rosie  \\n25. Leo  \\n26. Sophie  \\n27. Scout  \\n28. Hazel  \\n29. Archie  \\n30. Piper  \\n\\nLet me know if you'd like more suggestions! 😊\", additional_kwargs={'refusal': None}, response_metadata={'token_usage': {'completion_tokens': 147, 'prompt_tokens': 28, 'total_tokens': 175, 'completion_tokens_details': {'accepted_prediction_tokens': 0, 'audio_tokens': 0, 'reasoning_tokens': 0, 'rejected_prediction_tokens': 0}, 'prompt_tokens_details': {'audio_tokens': 0, 'cached_tokens': 0}}, 'model_name': 'gpt-4o-2024-11-20', 'system_fingerprint': 'fp_3eed281ddb', 'id': 'chatcmpl-C4emZFIqYA8lvbWJadDg25TvGtbxi', 'service_tier': None, 'prompt_filter_results': [{'prompt_index': 0, 'content_filter_results': {'hate': {'filtered': False, 'severity': 'safe'}, 'jailbreak': {'filtered': False, 'detected': False}, 'self_harm': {'filtered': False, 'severity': 'safe'}, 'sexual': {'filtered': False, 'severity': 'safe'}, 'violence': {'filtered': False, 'severity': 'safe'}}}], 'finish_reason': 'stop', 'logprobs': None, 'content_filter_results': {'hate': {'filtered': False, 'severity': 'safe'}, 'protected_material_code': {'filtered': False, 'detected': False}, 'protected_material_text': {'filtered': False, 'detected': False}, 'self_harm': {'filtered': False, 'severity': 'safe'}, 'sexual': {'filtered': False, 'severity': 'safe'}, 'violence': {'filtered': False, 'severity': 'safe'}}}, id='run--26ca6d9f-861d-46c1-9e9a-906a450f31ea-0', usage_metadata={'input_tokens': 28, 'output_tokens': 147, 'total_tokens': 175, 'input_token_details': {'audio': 0, 'cache_read': 0}, 'output_token_details': {'audio': 0, 'reasoning': 0}})"
      ]
     },
     "execution_count": 6,
     "metadata": {},
     "output_type": "execute_result"
    }
   ],
   "source": [
    "messages = [\n",
    "    (\n",
    "        \"system\",\n",
    "        \"You are a helpful assistant.\",\n",
    "    ),\n",
    "    (\"human\", \"Please give me the list of 30 dog's names.\"),\n",
    "]\n",
    "ai_msg = llm.invoke(messages)\n",
    "ai_msg"
   ]
  },
  {
   "cell_type": "code",
   "execution_count": 7,
   "id": "f2e5c47b",
   "metadata": {},
   "outputs": [
    {
     "data": {
      "text/plain": [
       "list"
      ]
     },
     "execution_count": 7,
     "metadata": {},
     "output_type": "execute_result"
    }
   ],
   "source": [
    "type(messages)"
   ]
  },
  {
   "cell_type": "code",
   "execution_count": 17,
   "id": "7c436b51",
   "metadata": {},
   "outputs": [
    {
     "data": {
      "text/plain": [
       "langchain_core.messages.ai.AIMessage"
      ]
     },
     "execution_count": 17,
     "metadata": {},
     "output_type": "execute_result"
    }
   ],
   "source": [
    "type(ai_msg)"
   ]
  },
  {
   "cell_type": "code",
   "execution_count": 18,
   "id": "61b295c8",
   "metadata": {},
   "outputs": [
    {
     "name": "stdout",
     "output_type": "stream",
     "text": [
      "Sure! Here’s a list of 30 dog names for inspiration:\n",
      "\n",
      "1. Bella  \n",
      "2. Max  \n",
      "3. Luna  \n",
      "4. Charlie  \n",
      "5. Daisy  \n",
      "6. Cooper  \n",
      "7. Lucy  \n",
      "8. Milo  \n",
      "9. Sadie  \n",
      "10. Rocky  \n",
      "11. Bailey  \n",
      "12. Chloe  \n",
      "13. Buddy  \n",
      "14. Molly  \n",
      "15. Teddy  \n",
      "16. Zoey  \n",
      "17. Duke  \n",
      "18. Ruby  \n",
      "19. Finn  \n",
      "20. Stella  \n",
      "21. Toby  \n",
      "22. Rosie  \n",
      "23. Leo  \n",
      "24. Lily  \n",
      "25. Jack  \n",
      "26. Sophie  \n",
      "27. Bear  \n",
      "28. Willow  \n",
      "29. Oliver  \n",
      "30. Piper  \n",
      "\n",
      "Let me know if you'd like more suggestions or specific types of names! 🐾\n"
     ]
    }
   ],
   "source": [
    "print(ai_msg.content)"
   ]
  },
  {
   "cell_type": "code",
   "execution_count": null,
   "id": "d01a6678",
   "metadata": {},
   "outputs": [
    {
     "name": "stdout",
     "output_type": "stream",
     "text": [
      "Sure! Here’s a list of 30 dog names for inspiration:\n",
      "\n",
      "1. Bella  \n",
      "2. Max  \n",
      "3. Luna  \n",
      "4. Charlie  \n",
      "5. Daisy  \n",
      "6. Cooper  \n",
      "7. Lucy  \n",
      "8. Milo  \n",
      "9. Sadie  \n",
      "10. Rocky  \n",
      "11. Bailey  \n",
      "12. Molly  \n",
      "13. Buddy  \n",
      "14. Zoey  \n",
      "15. Teddy  \n",
      "16. Chloe  \n",
      "17. Duke  \n",
      "18. Ruby  \n",
      "19. Finn  \n",
      "20. Stella  \n",
      "21. Oliver  \n",
      "22. Rosie  \n",
      "23. Toby  \n",
      "24. Lily  \n",
      "25. Jack  \n",
      "26. Penny  \n",
      "27. Scout  \n",
      "28. Roxy  \n",
      "29. Leo  \n",
      "30. Willow  \n",
      "\n",
      "Let me know if you'd like more suggestions! 😊\n"
     ]
    }
   ],
   "source": [
    "# SystemMessage や HumanMessageを使うほうが、tuple で ('human','xxxxx') と書くよりも型安全\n",
    "from langchain.schema import SystemMessage, HumanMessage\n",
    "\n",
    "msg_system = SystemMessage(content=\"You are a helpful assistant.\")\n",
    "msg_human = HumanMessage(content=\"Please give me the list of 30 dog's names.\")\n",
    "\n",
    "ai_msg = llm.invoke([msg_system, msg_human])\n",
    "print(ai_msg.content)"
   ]
  },
  {
   "cell_type": "code",
   "execution_count": 32,
   "id": "28a6acff",
   "metadata": {},
   "outputs": [
    {
     "name": "stdout",
     "output_type": "stream",
     "text": [
      "Sure! Here are some great dog name ideas, categorized for you:\n",
      "\n",
      "### **Classic Dog Names**\n",
      "- Max\n",
      "- Bella\n",
      "- Charlie\n",
      "- Daisy\n",
      "- Buddy\n",
      "- Lucy\n",
      "- Rocky\n",
      "- Molly\n",
      "- Duke\n",
      "- Sadie\n",
      "\n",
      "### **Unique Dog Names**\n",
      "- Nova\n",
      "- Atlas\n",
      "- Juniper\n",
      "- Ziggy\n",
      "- Aspen\n",
      "- Onyx\n",
      "- Clover\n",
      "- Echo\n",
      "- Orion\n",
      "- Maple\n",
      "\n",
      "### **Cute Dog Names**\n",
      "- Teddy\n",
      "- Coco\n",
      "- Peanut\n",
      "- Lulu\n",
      "- Biscuit\n",
      "- Poppy\n",
      "- Mochi\n",
      "- Nala\n",
      "- Waffles\n",
      "- Pixie\n",
      "\n",
      "### **Tough Dog Names**\n",
      "- Diesel\n",
      "- Thor\n",
      "- Roxy\n",
      "- Titan\n",
      "- Storm\n",
      "- Hunter\n",
      "- Blaze\n",
      "- Raven\n",
      "- Sarge\n",
      "- Jax\n",
      "\n",
      "### **Funny Dog Names**\n",
      "- Bark Twain\n",
      "- Sir Waggington\n",
      "- Chewbarka\n",
      "- Furdinand\n",
      "- Pupperoni\n",
      "- Wiggles\n",
      "- Taco\n",
      "- Biscuit\n",
      "- Snickers\n",
      "- Yoda\n",
      "\n",
      "### **Nature-Inspired Dog Names**\n",
      "- River\n",
      "- Willow\n",
      "- Sky\n",
      "- Cedar\n",
      "- Luna\n",
      "- Forest\n",
      "- Sunny\n",
      "- Ocean\n",
      "- Ivy\n",
      "- Stormy\n",
      "\n",
      "Let me know if you'd like more suggestions or a specific theme! 🐾\n"
     ]
    }
   ],
   "source": [
    "# SystemMessage や HumanMessageを使うほうが、tuple で ('human','xxxxx') と書くよりも型安全\n",
    "from langchain.schema import SystemMessage, HumanMessage, AIMessage\n",
    "\n",
    "msg_system = SystemMessage(content=\"You are a helpful assistant.\")\n",
    "msg_human = HumanMessage(content=\"Please give me some dog's names.\")\n",
    "msg_ai = AIMessage(content=\"How about 'Fido', 'Buddy', and 'Max'?\")\n",
    "msg_human2 = HumanMessage(content=\"Please give me more names, not including them\")\n",
    "\n",
    "ai_msg = llm.invoke([msg_system, msg_human])\n",
    "print(ai_msg.content)"
   ]
  },
  {
   "cell_type": "code",
   "execution_count": null,
   "id": "59e556e0",
   "metadata": {},
   "outputs": [],
   "source": []
  }
 ],
 "metadata": {
  "kernelspec": {
   "display_name": "py312",
   "language": "python",
   "name": "python3"
  },
  "language_info": {
   "codemirror_mode": {
    "name": "ipython",
    "version": 3
   },
   "file_extension": ".py",
   "mimetype": "text/x-python",
   "name": "python",
   "nbconvert_exporter": "python",
   "pygments_lexer": "ipython3",
   "version": "3.12.11"
  }
 },
 "nbformat": 4,
 "nbformat_minor": 5
}

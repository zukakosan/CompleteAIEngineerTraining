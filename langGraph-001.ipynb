{
 "cells": [
  {
   "cell_type": "markdown",
   "id": "8a480724",
   "metadata": {},
   "source": [
    "First Graph: Importing Relevant Classes"
   ]
  },
  {
   "cell_type": "markdown",
   "id": "2aa09ffb",
   "metadata": {},
   "source": []
  },
  {
   "cell_type": "code",
   "execution_count": 1,
   "id": "eebd265e",
   "metadata": {},
   "outputs": [],
   "source": [
    "%load_ext dotenv\n",
    "%dotenv\n",
    "%load_ext mypy_ipython"
   ]
  },
  {
   "cell_type": "code",
   "execution_count": 2,
   "id": "5f37ee48",
   "metadata": {},
   "outputs": [],
   "source": [
    "from langgraph.graph import START, END, StateGraph\n",
    "from typing_extensions import TypedDict\n",
    "from langchain_openai.chat_models import AzureChatOpenAI\n",
    "from langchain_core.messages import HumanMessage, BaseMessage\n",
    "from langchain_core.runnables import Runnable\n",
    "from collections.abc import Sequence"
   ]
  },
  {
   "cell_type": "code",
   "execution_count": 3,
   "id": "7470ce58",
   "metadata": {},
   "outputs": [],
   "source": [
    "class State(TypedDict):\n",
    "    messages: Sequence[BaseMessage]"
   ]
  },
  {
   "cell_type": "code",
   "execution_count": 4,
   "id": "b1149496",
   "metadata": {},
   "outputs": [],
   "source": [
    "state = State(messages=[HumanMessage(\"Could you tell me why birds can fly?\")])"
   ]
  },
  {
   "cell_type": "code",
   "execution_count": 5,
   "id": "4838aa79",
   "metadata": {},
   "outputs": [
    {
     "data": {
      "text/plain": [
       "{'messages': [HumanMessage(content='Could you tell me why birds can fly?', additional_kwargs={}, response_metadata={})]}"
      ]
     },
     "execution_count": 5,
     "metadata": {},
     "output_type": "execute_result"
    }
   ],
   "source": [
    "state"
   ]
  },
  {
   "cell_type": "code",
   "execution_count": 6,
   "id": "a564efef",
   "metadata": {},
   "outputs": [
    {
     "name": "stdout",
     "output_type": "stream",
     "text": [
      "================================\u001b[1m Human Message \u001b[0m=================================\n",
      "\n",
      "Could you tell me why birds can fly?\n"
     ]
    }
   ],
   "source": [
    "state[\"messages\"][0].pretty_print()"
   ]
  },
  {
   "cell_type": "code",
   "execution_count": 7,
   "id": "ef8a4041",
   "metadata": {},
   "outputs": [],
   "source": [
    "chat = AzureChatOpenAI(\n",
    "    azure_deployment=\"gpt-4o\",\n",
    "    api_version=\"2025-01-01-preview\",\n",
    "    temperature=0,\n",
    "    max_tokens=None,\n",
    "    timeout=None,\n",
    "    max_retries=6\n",
    ")"
   ]
  },
  {
   "cell_type": "code",
   "execution_count": 8,
   "id": "9e578b13",
   "metadata": {},
   "outputs": [
    {
     "name": "stdout",
     "output_type": "stream",
     "text": [
      "==================================\u001b[1m Ai Message \u001b[0m==================================\n",
      "\n",
      "Of course! Birds can fly due to a combination of specialized physical adaptations, evolutionary traits, and the principles of aerodynamics. Here are the key reasons why birds are capable of flight:\n",
      "\n",
      "### 1. **Wing Shape and Aerodynamics**\n",
      "   - Birds' wings are shaped like airfoils, meaning they are curved on top and flatter on the bottom. This shape allows air to move faster over the top of the wing and slower underneath, creating **lift**, which counteracts gravity and allows the bird to rise into the air.\n",
      "\n",
      "### 2. **Lightweight Bodies**\n",
      "   - Birds have evolved lightweight skeletons with hollow bones (pneumatized bones) that reduce their overall body weight without sacrificing strength. This makes it easier for them to stay aloft.\n",
      "   - They also lack heavy structures like teeth, instead having lightweight beaks.\n",
      "\n",
      "### 3. **Powerful Flight Muscles**\n",
      "   - Birds have strong flight muscles, particularly the **pectoralis major** (used for the downstroke) and the **supracoracoideus** (used for the upstroke). These muscles are attached to a large, keeled breastbone (sternum), providing the power needed for flapping their wings.\n",
      "\n",
      "### 4. **Feathers**\n",
      "   - Feathers are lightweight, strong, and flexible, and they play a crucial role in flight. The primary feathers on the wings provide thrust, while the secondary feathers help with lift. Tail feathers assist with steering and braking.\n",
      "\n",
      "### 5. **Efficient Respiratory System**\n",
      "   - Birds have a highly efficient respiratory system that allows for a continuous flow of oxygen through their lungs, even during the strenuous activity of flying. This helps them sustain the high energy demands of flight.\n",
      "\n",
      "### 6. **Streamlined Body**\n",
      "   - Birds have a streamlined body shape that reduces air resistance, allowing them to move through the air more efficiently.\n",
      "\n",
      "### 7. **High Metabolism**\n",
      "   - Flight requires a lot of energy, and birds have a high metabolic rate to meet these demands. Their bodies are adapted to process food quickly and convert it into energy for sustained flight.\n",
      "\n",
      "### 8. **Balance and Coordination**\n",
      "   - Birds have excellent balance and coordination, aided by their well-developed inner ear and vision. This helps them navigate and maneuver in the air with precision.\n",
      "\n",
      "### 9. **Evolutionary Adaptations**\n",
      "   - Over millions of years, birds have evolved from small, feathered dinosaurs. These evolutionary changes, including the development of wings and feathers, allowed them to take to the skies.\n",
      "\n",
      "In summary, birds can fly because their bodies are perfectly adapted for flight, combining lightweight structures, powerful muscles, specialized feathers, and efficient energy use. These adaptations work together to overcome gravity and enable the incredible diversity of flight behaviors we see in birds today!\n"
     ]
    }
   ],
   "source": [
    "res = chat.invoke(state[\"messages\"])\n",
    "res.pretty_print()"
   ]
  },
  {
   "cell_type": "code",
   "execution_count": 13,
   "id": "542aba73",
   "metadata": {},
   "outputs": [],
   "source": [
    "def chatbot(state: State) -> State:\n",
    "    res = chat.invoke(state[\"messages\"])\n",
    "    res.pretty_print()\n",
    "    return State(messages=[res])"
   ]
  },
  {
   "cell_type": "code",
   "execution_count": 14,
   "id": "1d4771fe",
   "metadata": {},
   "outputs": [
    {
     "name": "stdout",
     "output_type": "stream",
     "text": [
      "==================================\u001b[1m Ai Message \u001b[0m==================================\n",
      "\n",
      "Certainly! Birds can fly due to a combination of specialized physical adaptations, evolutionary traits, and the principles of aerodynamics. Here are the key reasons why birds are capable of flight:\n",
      "\n",
      "### 1. **Lightweight Bodies**\n",
      "   - Birds have lightweight skeletons with hollow bones (pneumatized bones) that reduce their overall body weight without sacrificing strength.\n",
      "   - They lack heavy structures like teeth, and instead, they have beaks made of keratin, which are much lighter.\n",
      "\n",
      "### 2. **Feathers**\n",
      "   - Feathers are crucial for flight. They are lightweight, strong, and flexible, providing the necessary surface area for lift and thrust.\n",
      "   - Flight feathers, especially on the wings and tail, are designed to create lift and help with steering and balance.\n",
      "\n",
      "### 3. **Wing Shape and Aerodynamics**\n",
      "   - Bird wings are shaped like airfoils, with a curved upper surface and a flatter lower surface. This shape allows air to move faster over the top of the wing, creating lower pressure above the wing and higher pressure below it, which generates lift.\n",
      "   - The angle and movement of the wings can be adjusted to control lift, thrust, and maneuverability.\n",
      "\n",
      "### 4. **Powerful Flight Muscles**\n",
      "   - Birds have strong pectoral muscles, particularly the **pectoralis major**, which powers the downward wing stroke, and the **supracoracoideus**, which helps lift the wings during the upward stroke.\n",
      "   - These muscles are attached to a large, keeled sternum (breastbone), providing a strong anchor for the forces needed for flight.\n",
      "\n",
      "### 5. **Efficient Respiratory and Circulatory Systems**\n",
      "   - Birds have a highly efficient respiratory system with air sacs that allow for a continuous flow of oxygen-rich air through their lungs, even during exhalation. This ensures they have the energy needed for sustained flight.\n",
      "   - Their circulatory system, including a large, powerful heart, delivers oxygen and nutrients efficiently to their muscles.\n",
      "\n",
      "### 6. **Streamlined Bodies**\n",
      "   - Birds have streamlined bodies that reduce air resistance during flight, making them more aerodynamic.\n",
      "\n",
      "### 7. **Balance and Coordination**\n",
      "   - Birds have a well-developed sense of balance and coordination, aided by their inner ear and vision, which helps them navigate and maintain stability in the air.\n",
      "\n",
      "### 8. **Adaptations for Energy Efficiency**\n",
      "   - Birds use specific flight techniques, such as gliding, soaring, and flapping, to conserve energy depending on their environment and the type of flight required.\n",
      "\n",
      "These adaptations, combined with millions of years of evolution, have made birds highly specialized for flight. However, it's worth noting that not all birds can fly—some, like ostriches, emus, and penguins, have evolved differently to suit their environments and lifestyles.\n"
     ]
    },
    {
     "data": {
      "text/plain": [
       "{'messages': [AIMessage(content=\"Certainly! Birds can fly due to a combination of specialized physical adaptations, evolutionary traits, and the principles of aerodynamics. Here are the key reasons why birds are capable of flight:\\n\\n### 1. **Lightweight Bodies**\\n   - Birds have lightweight skeletons with hollow bones (pneumatized bones) that reduce their overall body weight without sacrificing strength.\\n   - They lack heavy structures like teeth, and instead, they have beaks made of keratin, which are much lighter.\\n\\n### 2. **Feathers**\\n   - Feathers are crucial for flight. They are lightweight, strong, and flexible, providing the necessary surface area for lift and thrust.\\n   - Flight feathers, especially on the wings and tail, are designed to create lift and help with steering and balance.\\n\\n### 3. **Wing Shape and Aerodynamics**\\n   - Bird wings are shaped like airfoils, with a curved upper surface and a flatter lower surface. This shape allows air to move faster over the top of the wing, creating lower pressure above the wing and higher pressure below it, which generates lift.\\n   - The angle and movement of the wings can be adjusted to control lift, thrust, and maneuverability.\\n\\n### 4. **Powerful Flight Muscles**\\n   - Birds have strong pectoral muscles, particularly the **pectoralis major**, which powers the downward wing stroke, and the **supracoracoideus**, which helps lift the wings during the upward stroke.\\n   - These muscles are attached to a large, keeled sternum (breastbone), providing a strong anchor for the forces needed for flight.\\n\\n### 5. **Efficient Respiratory and Circulatory Systems**\\n   - Birds have a highly efficient respiratory system with air sacs that allow for a continuous flow of oxygen-rich air through their lungs, even during exhalation. This ensures they have the energy needed for sustained flight.\\n   - Their circulatory system, including a large, powerful heart, delivers oxygen and nutrients efficiently to their muscles.\\n\\n### 6. **Streamlined Bodies**\\n   - Birds have streamlined bodies that reduce air resistance during flight, making them more aerodynamic.\\n\\n### 7. **Balance and Coordination**\\n   - Birds have a well-developed sense of balance and coordination, aided by their inner ear and vision, which helps them navigate and maintain stability in the air.\\n\\n### 8. **Adaptations for Energy Efficiency**\\n   - Birds use specific flight techniques, such as gliding, soaring, and flapping, to conserve energy depending on their environment and the type of flight required.\\n\\nThese adaptations, combined with millions of years of evolution, have made birds highly specialized for flight. However, it's worth noting that not all birds can fly—some, like ostriches, emus, and penguins, have evolved differently to suit their environments and lifestyles.\", additional_kwargs={'refusal': None}, response_metadata={'token_usage': {'completion_tokens': 576, 'prompt_tokens': 16, 'total_tokens': 592, 'completion_tokens_details': {'accepted_prediction_tokens': 0, 'audio_tokens': 0, 'reasoning_tokens': 0, 'rejected_prediction_tokens': 0}, 'prompt_tokens_details': {'audio_tokens': 0, 'cached_tokens': 0}}, 'model_name': 'gpt-4o-2024-11-20', 'system_fingerprint': 'fp_3eed281ddb', 'id': 'chatcmpl-C8QGpOSoYZfd1uUhYQ8bI5gUR8G3r', 'service_tier': None, 'prompt_filter_results': [{'prompt_index': 0, 'content_filter_results': {'hate': {'filtered': False, 'severity': 'safe'}, 'jailbreak': {'filtered': False, 'detected': False}, 'self_harm': {'filtered': False, 'severity': 'safe'}, 'sexual': {'filtered': False, 'severity': 'safe'}, 'violence': {'filtered': False, 'severity': 'safe'}}}], 'finish_reason': 'stop', 'logprobs': None, 'content_filter_results': {'hate': {'filtered': False, 'severity': 'safe'}, 'protected_material_code': {'filtered': False, 'detected': False}, 'protected_material_text': {'filtered': False, 'detected': False}, 'self_harm': {'filtered': False, 'severity': 'safe'}, 'sexual': {'filtered': False, 'severity': 'safe'}, 'violence': {'filtered': False, 'severity': 'safe'}}}, id='run--083a9ca0-5e9d-4953-8e5d-ee45467157ef-0', usage_metadata={'input_tokens': 16, 'output_tokens': 576, 'total_tokens': 592, 'input_token_details': {'audio': 0, 'cache_read': 0}, 'output_token_details': {'audio': 0, 'reasoning': 0}})]}"
      ]
     },
     "execution_count": 14,
     "metadata": {},
     "output_type": "execute_result"
    }
   ],
   "source": [
    "chatbot(state)"
   ]
  },
  {
   "cell_type": "code",
   "execution_count": 15,
   "id": "d0cc08f4",
   "metadata": {},
   "outputs": [],
   "source": [
    "graph = StateGraph(State)"
   ]
  },
  {
   "cell_type": "code",
   "execution_count": 16,
   "id": "3d5d589d",
   "metadata": {},
   "outputs": [
    {
     "data": {
      "text/plain": [
       "<langgraph.graph.state.StateGraph at 0x1fc147ff810>"
      ]
     },
     "execution_count": 16,
     "metadata": {},
     "output_type": "execute_result"
    }
   ],
   "source": [
    "graph.add_node(\"chatbot\", chatbot)\n",
    "graph.add_edge(START, \"chatbot\")\n",
    "graph.add_edge(\"chatbot\", END)"
   ]
  },
  {
   "cell_type": "code",
   "execution_count": 17,
   "id": "e7a0d352",
   "metadata": {},
   "outputs": [],
   "source": [
    "graph_compiled = graph.compile()"
   ]
  },
  {
   "cell_type": "code",
   "execution_count": 18,
   "id": "15995eec",
   "metadata": {},
   "outputs": [
    {
     "data": {
      "image/png": "[encoded data removed]",
      "text/plain": [
       "<langgraph.graph.state.CompiledStateGraph object at 0x000001FC14123F50>"
      ]
     },
     "execution_count": 18,
     "metadata": {},
     "output_type": "execute_result"
    }
   ],
   "source": [
    "graph_compiled"
   ]
  },
  {
   "cell_type": "markdown",
   "id": "d2514948",
   "metadata": {},
   "source": [
    "TEST GRAPH"
   ]
  },
  {
   "cell_type": "code",
   "execution_count": 19,
   "id": "d0e6845f",
   "metadata": {},
   "outputs": [
    {
     "name": "stdout",
     "output_type": "stream",
     "text": [
      "==================================\u001b[1m Ai Message \u001b[0m==================================\n",
      "\n",
      "Certainly! Birds can fly due to a combination of unique physical adaptations, biological features, and behaviors that enable them to overcome gravity and generate lift. Here are the key reasons why birds can fly:\n",
      "\n",
      "### 1. **Wing Structure and Shape**\n",
      "   - Birds have wings that are specially designed for flight. The shape of their wings, known as an **airfoil**, allows air to move faster over the top of the wing and slower underneath. This difference in air pressure creates **lift**, which helps birds rise into the air.\n",
      "   - The curvature of the wing and the angle at which it is held (called the **angle of attack**) are crucial for generating lift.\n",
      "\n",
      "### 2. **Feathers**\n",
      "   - Feathers are lightweight and strong, providing the necessary surface area for flight. They are arranged in a way that minimizes air resistance and maximizes lift.\n",
      "   - Flight feathers on the wings and tail help birds control their direction, speed, and stability during flight.\n",
      "\n",
      "### 3. **Lightweight Skeleton**\n",
      "   - Birds have a lightweight skeleton with hollow bones that reduce their overall body weight without sacrificing strength. This makes it easier for them to stay airborne.\n",
      "   - Their bones are also fused in certain areas (like the collarbone, forming the **furcula** or \"wishbone\") to provide stability during flight.\n",
      "\n",
      "### 4. **Powerful Flight Muscles**\n",
      "   - Birds have strong flight muscles, particularly the **pectoralis major**, which powers the downward stroke of the wings, and the **supracoracoideus**, which lifts the wings during the upward stroke.\n",
      "   - These muscles are attached to a large, keeled breastbone (**sternum**) that provides a sturdy anchor for muscle attachment.\n",
      "\n",
      "### 5. **Efficient Respiratory System**\n",
      "   - Birds have a highly efficient respiratory system that allows them to take in large amounts of oxygen to fuel their flight muscles. Their lungs are supplemented by **air sacs**, which ensure a continuous flow of oxygen-rich air during both inhalation and exhalation.\n",
      "\n",
      "### 6. **High Metabolism**\n",
      "   - Birds have a high metabolic rate, which provides the energy needed for the intense physical activity of flying. Their bodies are adapted to quickly convert food into energy.\n",
      "\n",
      "### 7. **Balance and Coordination**\n",
      "   - Birds have excellent balance and coordination, aided by their **inner ear** and specialized brain structures. This allows them to make precise movements and adjustments while flying.\n",
      "\n",
      "### 8. **Behavioral Adaptations**\n",
      "   - Birds use techniques like flapping, gliding, soaring, and hovering to optimize their flight depending on their needs and environment. For example, some birds, like hawks and eagles, soar on thermal air currents to conserve energy.\n",
      "\n",
      "### 9. **Streamlined Body**\n",
      "   - Birds have a streamlined body shape that reduces air resistance, making it easier for them to move through the air efficiently.\n",
      "\n",
      "### 10. **Evolutionary Adaptations**\n",
      "   - Over millions of years, birds have evolved these features to become highly specialized for flight. Their ancestors, theropod dinosaurs, gradually developed feathers and other adaptations that eventually led to powered flight.\n",
      "\n",
      "In summary, birds can fly because their bodies are perfectly adapted to generate lift, reduce drag, and produce the power needed for sustained flight. These adaptations work together to make flight possible!\n"
     ]
    },
    {
     "data": {
      "text/plain": [
       "{'messages': [AIMessage(content='Certainly! Birds can fly due to a combination of unique physical adaptations, biological features, and behaviors that enable them to overcome gravity and generate lift. Here are the key reasons why birds can fly:\\n\\n### 1. **Wing Structure and Shape**\\n   - Birds have wings that are specially designed for flight. The shape of their wings, known as an **airfoil**, allows air to move faster over the top of the wing and slower underneath. This difference in air pressure creates **lift**, which helps birds rise into the air.\\n   - The curvature of the wing and the angle at which it is held (called the **angle of attack**) are crucial for generating lift.\\n\\n### 2. **Feathers**\\n   - Feathers are lightweight and strong, providing the necessary surface area for flight. They are arranged in a way that minimizes air resistance and maximizes lift.\\n   - Flight feathers on the wings and tail help birds control their direction, speed, and stability during flight.\\n\\n### 3. **Lightweight Skeleton**\\n   - Birds have a lightweight skeleton with hollow bones that reduce their overall body weight without sacrificing strength. This makes it easier for them to stay airborne.\\n   - Their bones are also fused in certain areas (like the collarbone, forming the **furcula** or \"wishbone\") to provide stability during flight.\\n\\n### 4. **Powerful Flight Muscles**\\n   - Birds have strong flight muscles, particularly the **pectoralis major**, which powers the downward stroke of the wings, and the **supracoracoideus**, which lifts the wings during the upward stroke.\\n   - These muscles are attached to a large, keeled breastbone (**sternum**) that provides a sturdy anchor for muscle attachment.\\n\\n### 5. **Efficient Respiratory System**\\n   - Birds have a highly efficient respiratory system that allows them to take in large amounts of oxygen to fuel their flight muscles. Their lungs are supplemented by **air sacs**, which ensure a continuous flow of oxygen-rich air during both inhalation and exhalation.\\n\\n### 6. **High Metabolism**\\n   - Birds have a high metabolic rate, which provides the energy needed for the intense physical activity of flying. Their bodies are adapted to quickly convert food into energy.\\n\\n### 7. **Balance and Coordination**\\n   - Birds have excellent balance and coordination, aided by their **inner ear** and specialized brain structures. This allows them to make precise movements and adjustments while flying.\\n\\n### 8. **Behavioral Adaptations**\\n   - Birds use techniques like flapping, gliding, soaring, and hovering to optimize their flight depending on their needs and environment. For example, some birds, like hawks and eagles, soar on thermal air currents to conserve energy.\\n\\n### 9. **Streamlined Body**\\n   - Birds have a streamlined body shape that reduces air resistance, making it easier for them to move through the air efficiently.\\n\\n### 10. **Evolutionary Adaptations**\\n   - Over millions of years, birds have evolved these features to become highly specialized for flight. Their ancestors, theropod dinosaurs, gradually developed feathers and other adaptations that eventually led to powered flight.\\n\\nIn summary, birds can fly because their bodies are perfectly adapted to generate lift, reduce drag, and produce the power needed for sustained flight. These adaptations work together to make flight possible!', additional_kwargs={'refusal': None}, response_metadata={'token_usage': {'completion_tokens': 678, 'prompt_tokens': 16, 'total_tokens': 694, 'completion_tokens_details': {'accepted_prediction_tokens': 0, 'audio_tokens': 0, 'reasoning_tokens': 0, 'rejected_prediction_tokens': 0}, 'prompt_tokens_details': {'audio_tokens': 0, 'cached_tokens': 0}}, 'model_name': 'gpt-4o-2024-11-20', 'system_fingerprint': 'fp_ee1d74bde0', 'id': 'chatcmpl-C8QGwxzsDUjxuVdrdsg148R5PtjtW', 'service_tier': None, 'prompt_filter_results': [{'prompt_index': 0, 'content_filter_results': {'hate': {'filtered': False, 'severity': 'safe'}, 'jailbreak': {'filtered': False, 'detected': False}, 'self_harm': {'filtered': False, 'severity': 'safe'}, 'sexual': {'filtered': False, 'severity': 'safe'}, 'violence': {'filtered': False, 'severity': 'safe'}}}], 'finish_reason': 'stop', 'logprobs': None, 'content_filter_results': {'hate': {'filtered': False, 'severity': 'safe'}, 'protected_material_code': {'filtered': False, 'detected': False}, 'protected_material_text': {'filtered': False, 'detected': False}, 'self_harm': {'filtered': False, 'severity': 'safe'}, 'sexual': {'filtered': False, 'severity': 'safe'}, 'violence': {'filtered': False, 'severity': 'safe'}}}, id='run--3c2972c6-b17d-4652-a2a4-e5477765fe49-0', usage_metadata={'input_tokens': 16, 'output_tokens': 678, 'total_tokens': 694, 'input_token_details': {'audio': 0, 'cache_read': 0}, 'output_token_details': {'audio': 0, 'reasoning': 0}})]}"
      ]
     },
     "execution_count": 19,
     "metadata": {},
     "output_type": "execute_result"
    }
   ],
   "source": [
    "graph_compiled.invoke(state)"
   ]
  },
  {
   "cell_type": "code",
   "execution_count": null,
   "id": "eb249012",
   "metadata": {},
   "outputs": [],
   "source": []
  }
 ],
 "metadata": {
  "kernelspec": {
   "display_name": "langgraph_env",
   "language": "python",
   "name": "python3"
  },
  "language_info": {
   "codemirror_mode": {
    "name": "ipython",
    "version": 3
   },
   "file_extension": ".py",
   "mimetype": "text/x-python",
   "name": "python",
   "nbconvert_exporter": "python",
   "pygments_lexer": "ipython3",
   "version": "3.11.11"
  }
 },
 "nbformat": 4,
 "nbformat_minor": 5
}

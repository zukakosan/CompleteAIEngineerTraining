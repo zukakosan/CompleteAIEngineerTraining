{
 "cells": [
  {
   "cell_type": "code",
   "execution_count": 1,
   "id": "607f8463",
   "metadata": {},
   "outputs": [],
   "source": [
    "%load_ext dotenv\n",
    "%dotenv"
   ]
  },
  {
   "cell_type": "code",
   "execution_count": 3,
   "id": "0d19ece9",
   "metadata": {},
   "outputs": [],
   "source": [
    "from langchain_openai import AzureOpenAIEmbeddings\n",
    "from langchain_chroma import Chroma\n",
    "from langchain_core.documents import Document"
   ]
  },
  {
   "cell_type": "code",
   "execution_count": 4,
   "id": "5745b725",
   "metadata": {},
   "outputs": [],
   "source": [
    "embedding = AzureOpenAIEmbeddings(model=\"text-embedding-ada-002\")\n"
   ]
  },
  {
   "cell_type": "code",
   "execution_count": 5,
   "id": "01d6e430",
   "metadata": {},
   "outputs": [],
   "source": [
    "vectorstore_from_directory = Chroma(persist_directory = \"./data\", embedding_function = embedding)\n"
   ]
  },
  {
   "cell_type": "code",
   "execution_count": 10,
   "id": "2b3b0f80",
   "metadata": {},
   "outputs": [
    {
     "data": {
      "text/plain": [
       "{'ids': ['2731d49c-d72b-4ca4-bbac-856945827218'],\n",
       " 'embeddings': array([[ 0.00478017, -0.01535145,  0.02508651, ...,  0.02121745,\n",
       "         -0.01364157, -0.00687695]]),\n",
       " 'documents': None,\n",
       " 'uris': None,\n",
       " 'included': ['embeddings'],\n",
       " 'data': None,\n",
       " 'metadatas': None}"
      ]
     },
     "execution_count": 10,
     "metadata": {},
     "output_type": "execute_result"
    }
   ],
   "source": [
    "vectorstore_from_directory.get(ids='2731d49c-d72b-4ca4-bbac-856945827218', include=[\"embeddings\"])"
   ]
  },
  {
   "cell_type": "code",
   "execution_count": 11,
   "id": "7292f09d",
   "metadata": {},
   "outputs": [],
   "source": [
    "added_document = Document(page_content='Alright! So… Let’s discuss the not-so-obvious differences between the terms analysis and analytics. Due to the similarity of the words, some people believe they share the same meaning, and thus use them interchangeably. Technically, this isn’t correct. There is, in fact, a distinct difference between the two. And the reason for one often being used instead of the other is the lack of a transparent understanding of both. So, let’s clear this up, shall we? First, we will start with analysis',\n",
    "                          metadata={'Course Title': 'Complete AI Engineer Training','Lecture Title':'Analysis vs Analytics'}\n",
    "                          )"
   ]
  },
  {
   "cell_type": "code",
   "execution_count": 13,
   "id": "14d355f5",
   "metadata": {},
   "outputs": [
    {
     "data": {
      "text/plain": [
       "['040eb4c5-8e6b-4836-92b1-e788a812952a']"
      ]
     },
     "execution_count": 13,
     "metadata": {},
     "output_type": "execute_result"
    }
   ],
   "source": [
    "# vectorstore インスタンスの add メソッドを使用してドキュメントを追加\n",
    "vectorstore_from_directory.add_documents([added_document])"
   ]
  },
  {
   "cell_type": "code",
   "execution_count": 15,
   "id": "b3360ffe",
   "metadata": {},
   "outputs": [
    {
     "data": {
      "text/plain": [
       "{'ids': ['040eb4c5-8e6b-4836-92b1-e788a812952a'],\n",
       " 'embeddings': array([[ 0.00478017, -0.01535145,  0.02508651, ...,  0.02121745,\n",
       "         -0.01364157, -0.00687695]]),\n",
       " 'documents': None,\n",
       " 'uris': None,\n",
       " 'included': ['embeddings'],\n",
       " 'data': None,\n",
       " 'metadatas': None}"
      ]
     },
     "execution_count": 15,
     "metadata": {},
     "output_type": "execute_result"
    }
   ],
   "source": [
    "vectorstore_from_directory.get(ids=['040eb4c5-8e6b-4836-92b1-e788a812952a'],include=[\"embeddings\"])"
   ]
  },
  {
   "cell_type": "code",
   "execution_count": 17,
   "id": "1aca8b12",
   "metadata": {},
   "outputs": [],
   "source": [
    "updated_doc = Document(page_content='xxxxxxxxxxxxxxxxxxxxxxxxxxxxxxxxxAlright! So… Let’s discuss the not-so-obvious differences between the terms analysis and analytics. Due to the similarity of the words, some people believe they share the same meaning, and thus use them interchangeably. Technically, this isn’t correct. There is, in fact, a distinct difference between the two. And the reason for one often being used instead of the other is the lack of a transparent understanding of both. So, let’s clear this up, shall we? First, we will start with analysis',\n",
    "                          metadata={'Course Title': 'Complete AI Engineer Training','Lecture Title':'Analysis vs Analytics'}\n",
    "                          )\n",
    "vectorstore_from_directory.update_document(document_id='040eb4c5-8e6b-4836-92b1-e788a812952a', document=updated_doc)"
   ]
  },
  {
   "cell_type": "code",
   "execution_count": 18,
   "id": "6ea3fa90",
   "metadata": {},
   "outputs": [
    {
     "data": {
      "text/plain": [
       "{'ids': ['040eb4c5-8e6b-4836-92b1-e788a812952a'],\n",
       " 'embeddings': None,\n",
       " 'documents': ['xxxxxxxxxxxxxxxxxxxxxxxxxxxxxxxxxAlright! So… Let’s discuss the not-so-obvious differences between the terms analysis and analytics. Due to the similarity of the words, some people believe they share the same meaning, and thus use them interchangeably. Technically, this isn’t correct. There is, in fact, a distinct difference between the two. And the reason for one often being used instead of the other is the lack of a transparent understanding of both. So, let’s clear this up, shall we? First, we will start with analysis'],\n",
       " 'uris': None,\n",
       " 'included': ['metadatas', 'documents'],\n",
       " 'data': None,\n",
       " 'metadatas': [{'Course Title': 'Complete AI Engineer Training',\n",
       "   'Lecture Title': 'Analysis vs Analytics'}]}"
      ]
     },
     "execution_count": 18,
     "metadata": {},
     "output_type": "execute_result"
    }
   ],
   "source": [
    "vectorstore_from_directory.get('040eb4c5-8e6b-4836-92b1-e788a812952a')"
   ]
  },
  {
   "cell_type": "code",
   "execution_count": 19,
   "id": "14e3c63d",
   "metadata": {},
   "outputs": [],
   "source": [
    "vectorstore_from_directory.delete('040eb4c5-8e6b-4836-92b1-e788a812952a')"
   ]
  },
  {
   "cell_type": "code",
   "execution_count": 20,
   "id": "b05689cb",
   "metadata": {},
   "outputs": [
    {
     "data": {
      "text/plain": [
       "{'ids': [],\n",
       " 'embeddings': None,\n",
       " 'documents': [],\n",
       " 'uris': None,\n",
       " 'included': ['metadatas', 'documents'],\n",
       " 'data': None,\n",
       " 'metadatas': []}"
      ]
     },
     "execution_count": 20,
     "metadata": {},
     "output_type": "execute_result"
    }
   ],
   "source": [
    "vectorstore_from_directory.get('040eb4c5-8e6b-4836-92b1-e788a812952a')"
   ]
  },
  {
   "cell_type": "code",
   "execution_count": null,
   "id": "02aee111",
   "metadata": {},
   "outputs": [],
   "source": []
  }
 ],
 "metadata": {
  "kernelspec": {
   "display_name": "py312",
   "language": "python",
   "name": "python3"
  },
  "language_info": {
   "codemirror_mode": {
    "name": "ipython",
    "version": 3
   },
   "file_extension": ".py",
   "mimetype": "text/x-python",
   "name": "python",
   "nbconvert_exporter": "python",
   "pygments_lexer": "ipython3",
   "version": "3.12.11"
  }
 },
 "nbformat": 4,
 "nbformat_minor": 5
}

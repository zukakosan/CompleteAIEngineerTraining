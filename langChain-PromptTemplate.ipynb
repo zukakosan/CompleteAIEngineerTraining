{
 "cells": [
  {
   "cell_type": "markdown",
   "id": "25e90b9c",
   "metadata": {},
   "source": [
    "# Prompt Templates and Prompt Values"
   ]
  },
  {
   "cell_type": "code",
   "execution_count": 3,
   "id": "b84bc9da",
   "metadata": {},
   "outputs": [],
   "source": [
    "from langchain import PromptTemplate"
   ]
  },
  {
   "cell_type": "code",
   "execution_count": 4,
   "id": "20463549",
   "metadata": {},
   "outputs": [],
   "source": [
    "TEMPLATE = '''\n",
    "System:\n",
    "{description}\n",
    "\n",
    "Human:\n",
    "I've recently adopted a {pet}.\n",
    "Could you suggest some {pet} names?\n",
    "'''\n"
   ]
  },
  {
   "cell_type": "code",
   "execution_count": 5,
   "id": "6eb8ed3f",
   "metadata": {},
   "outputs": [],
   "source": [
    "prompt_template = PromptTemplate.from_template(TEMPLATE)"
   ]
  },
  {
   "cell_type": "code",
   "execution_count": 6,
   "id": "b9168b63",
   "metadata": {},
   "outputs": [
    {
     "data": {
      "text/plain": [
       "PromptTemplate(input_variables=['description', 'pet'], input_types={}, partial_variables={}, template=\"\\nSystem:\\n{description}\\n\\nHuman:\\nI've recently adopted a {pet}.\\nCould you suggest some {pet} names?\\n\")"
      ]
     },
     "execution_count": 6,
     "metadata": {},
     "output_type": "execute_result"
    }
   ],
   "source": [
    "prompt_template"
   ]
  },
  {
   "cell_type": "code",
   "execution_count": null,
   "id": "271ac38d",
   "metadata": {},
   "outputs": [],
   "source": [
    "# PromptTemplate のインスタンスに対して、引数を指定して呼び出すことで、PromptValue を生成できます。\n",
    "prompt_value = prompt_template.invoke({'description':'You are a helpful assistant.',\n",
    "                                      'pet':'dog'})"
   ]
  },
  {
   "cell_type": "code",
   "execution_count": 11,
   "id": "8012f41c",
   "metadata": {},
   "outputs": [
    {
     "data": {
      "text/plain": [
       "StringPromptValue(text=\"\\nSystem:\\nYou are a helpful assistant.\\n\\nHuman:\\nI've recently adopted a dog.\\nCould you suggest some dog names?\\n\")"
      ]
     },
     "execution_count": 11,
     "metadata": {},
     "output_type": "execute_result"
    }
   ],
   "source": [
    "# TEMPLATE の変数に 渡した dict の内容が反映されている\n",
    "prompt_value"
   ]
  },
  {
   "cell_type": "code",
   "execution_count": 13,
   "id": "160d7744",
   "metadata": {},
   "outputs": [
    {
     "name": "stdout",
     "output_type": "stream",
     "text": [
      "The dotenv extension is already loaded. To reload it, use:\n",
      "  %reload_ext dotenv\n"
     ]
    }
   ],
   "source": [
    "%load_ext dotenv\n",
    "%dotenv\n",
    "\n",
    "import os\n",
    "from openai import AzureOpenAI\n",
    "from azure.identity import ClientSecretCredential, get_bearer_token_provider\n",
    "# Azure OpenAI Service Integration with LangChain\n",
    "from langchain_openai.chat_models import AzureChatOpenAI\n",
    "from langchain.schema import HumanMessage, SystemMessage, AIMessage"
   ]
  },
  {
   "cell_type": "code",
   "execution_count": 14,
   "id": "091f9057",
   "metadata": {},
   "outputs": [],
   "source": [
    "llm = AzureChatOpenAI(\n",
    "    azure_deployment=\"gpt-4o\",\n",
    "    api_version=\"2025-01-01-preview\",\n",
    "    temperature=0,\n",
    "    max_tokens=None,\n",
    "    timeout=None,\n",
    "    max_retries=6\n",
    ")"
   ]
  },
  {
   "cell_type": "code",
   "execution_count": 18,
   "id": "a2b8856c",
   "metadata": {},
   "outputs": [],
   "source": [
    "from langchain.prompts.chat import (\n",
    "    ChatPromptTemplate,\n",
    "    SystemMessagePromptTemplate,\n",
    "    HumanMessagePromptTemplate,\n",
    ")\n",
    "TEMPLATE_S = '{description}'\n",
    "TEMPLATE_H = '''I've recently adopted a {pet}. Could you suggest some {pet} names?'''"
   ]
  },
  {
   "cell_type": "code",
   "execution_count": 19,
   "id": "098045ac",
   "metadata": {},
   "outputs": [],
   "source": [
    "message_template_s = SystemMessagePromptTemplate.from_template(TEMPLATE_S)\n",
    "message_template_h = HumanMessagePromptTemplate.from_template(TEMPLATE_H)\n"
   ]
  },
  {
   "cell_type": "code",
   "execution_count": 27,
   "id": "693d37e5",
   "metadata": {},
   "outputs": [
    {
     "data": {
      "text/plain": [
       "langchain_core.prompts.chat.HumanMessagePromptTemplate"
      ]
     },
     "execution_count": 27,
     "metadata": {},
     "output_type": "execute_result"
    }
   ],
   "source": [
    "type(message_template_h)"
   ]
  },
  {
   "cell_type": "code",
   "execution_count": null,
   "id": "6f47df12",
   "metadata": {},
   "outputs": [
    {
     "data": {
      "text/plain": [
       "langchain_core.prompts.chat.ChatPromptTemplate"
      ]
     },
     "execution_count": 28,
     "metadata": {},
     "output_type": "execute_result"
    }
   ],
   "source": [
    "chat_template = ChatPromptTemplate.from_messages(\n",
    "    [message_template_s, message_template_h]\n",
    ")\n",
    "# ChatPromptTemplate 型で返ってくる\n",
    "type(chat_template)"
   ]
  },
  {
   "cell_type": "code",
   "execution_count": 22,
   "id": "f1fb6a48",
   "metadata": {},
   "outputs": [],
   "source": [
    "chat_value = chat_template.invoke({\n",
    "    \"description\": \"You are a helpful assistant.\",\n",
    "    \"pet\": \"dog\"\n",
    "})"
   ]
  },
  {
   "cell_type": "code",
   "execution_count": 23,
   "id": "a345536f",
   "metadata": {},
   "outputs": [
    {
     "data": {
      "text/plain": [
       "ChatPromptValue(messages=[SystemMessage(content='You are a helpful assistant.', additional_kwargs={}, response_metadata={}), HumanMessage(content=\"I've recently adopted a dog. Could you suggest some dog names?\", additional_kwargs={}, response_metadata={})])"
      ]
     },
     "execution_count": 23,
     "metadata": {},
     "output_type": "execute_result"
    }
   ],
   "source": [
    "chat_value"
   ]
  },
  {
   "cell_type": "code",
   "execution_count": null,
   "id": "49ab6faf",
   "metadata": {},
   "outputs": [],
   "source": [
    "# ChatPromptValue を LLM に渡すと、AIMessage が返ってきます。\n",
    "ai_msg = llm.invoke(chat_value)"
   ]
  },
  {
   "cell_type": "code",
   "execution_count": 26,
   "id": "d33fd899",
   "metadata": {},
   "outputs": [
    {
     "data": {
      "text/plain": [
       "AIMessage(content=\"Congratulations on adopting a dog! Here are some name suggestions to help you find the perfect fit for your new furry friend. I've categorized them to make it easier for you:\\n\\n### **Classic Dog Names**\\n- Max\\n- Bella\\n- Charlie\\n- Daisy\\n- Buddy\\n- Lucy\\n- Rocky\\n- Molly\\n\\n### **Unique Dog Names**\\n- Nova\\n- Atlas\\n- Juniper\\n- Zephyr\\n- Indigo\\n- Echo\\n- Aspen\\n- Onyx\\n\\n### **Cute Dog Names**\\n- Peanut\\n- Coco\\n- Teddy\\n- Poppy\\n- Biscuit\\n- Nala\\n- Mochi\\n- Sprout\\n\\n### **Strong Dog Names**\\n- Thor\\n- Athena\\n- Diesel\\n- Roxy\\n- Titan\\n- Zara\\n- Bear\\n- Juno\\n\\n### **Funny Dog Names**\\n- Bark Twain\\n- Sir Waggington\\n- Chewbarka\\n- Furdinand\\n- Paws\\n- Waffles\\n- Nugget\\n- Pickles\\n\\n### **Nature-Inspired Names**\\n- Willow\\n- River\\n- Maple\\n- Clover\\n- Storm\\n- Sunny\\n- Sage\\n- Luna\\n\\n### **Pop Culture-Inspired Names**\\n- Arya (Game of Thrones)\\n- Yoda (Star Wars)\\n- Simba (The Lion King)\\n- Elsa (Frozen)\\n- Scooby (Scooby-Doo)\\n- Loki (Marvel)\\n- Stitch (Lilo & Stitch)\\n- Dobby (Harry Potter)\\n\\n### **Gender-Neutral Names**\\n- Riley\\n- Bailey\\n- Scout\\n- Frankie\\n- Harley\\n- Quinn\\n- Casey\\n- Dakota\\n\\nTake your time to get to know your dog's personality—it might inspire the perfect name! Let me know if you'd like more suggestions or help narrowing it down. 😊\", additional_kwargs={'refusal': None}, response_metadata={'token_usage': {'completion_tokens': 365, 'prompt_tokens': 30, 'total_tokens': 395, 'completion_tokens_details': {'accepted_prediction_tokens': 0, 'audio_tokens': 0, 'reasoning_tokens': 0, 'rejected_prediction_tokens': 0}, 'prompt_tokens_details': {'audio_tokens': 0, 'cached_tokens': 0}}, 'model_name': 'gpt-4o-2024-11-20', 'system_fingerprint': 'fp_3eed281ddb', 'id': 'chatcmpl-C4ejW35eO5355fs9o12OLD9tUNMI2', 'service_tier': None, 'prompt_filter_results': [{'prompt_index': 0, 'content_filter_results': {'hate': {'filtered': False, 'severity': 'safe'}, 'jailbreak': {'filtered': False, 'detected': False}, 'self_harm': {'filtered': False, 'severity': 'safe'}, 'sexual': {'filtered': False, 'severity': 'safe'}, 'violence': {'filtered': False, 'severity': 'safe'}}}], 'finish_reason': 'stop', 'logprobs': None, 'content_filter_results': {'hate': {'filtered': False, 'severity': 'safe'}, 'protected_material_code': {'filtered': False, 'detected': False}, 'protected_material_text': {'filtered': False, 'detected': False}, 'self_harm': {'filtered': False, 'severity': 'safe'}, 'sexual': {'filtered': False, 'severity': 'safe'}, 'violence': {'filtered': False, 'severity': 'safe'}}}, id='run--9b754239-8b89-4b74-bb79-102cce69264b-0', usage_metadata={'input_tokens': 30, 'output_tokens': 365, 'total_tokens': 395, 'input_token_details': {'audio': 0, 'cache_read': 0}, 'output_token_details': {'audio': 0, 'reasoning': 0}})"
      ]
     },
     "execution_count": 26,
     "metadata": {},
     "output_type": "execute_result"
    }
   ],
   "source": [
    "ai_msg"
   ]
  },
  {
   "cell_type": "markdown",
   "id": "168204b1",
   "metadata": {},
   "source": [
    "# Few Shot Chat Message Prompt Templates"
   ]
  },
  {
   "cell_type": "code",
   "execution_count": 31,
   "id": "d20f9498",
   "metadata": {},
   "outputs": [],
   "source": [
    "from langchain_core.prompts import (\n",
    "    ChatPromptTemplate,\n",
    "    SystemMessagePromptTemplate,\n",
    "    HumanMessagePromptTemplate,\n",
    "    AIMessagePromptTemplate,\n",
    "    FewShotChatMessagePromptTemplate\n",
    ")"
   ]
  },
  {
   "cell_type": "code",
   "execution_count": 32,
   "id": "d5ed5f67",
   "metadata": {},
   "outputs": [],
   "source": [
    "TEMPLATE_H = '''I've recently adopted a {pet}. Could you suggest some {pet} names?'''\n",
    "TEMPLATE_AI = '''{response}'''\n",
    "\n",
    "message_template_h = HumanMessagePromptTemplate.from_template(TEMPLATE_H)\n",
    "message_template_a = AIMessagePromptTemplate.from_template(TEMPLATE_AI)"
   ]
  },
  {
   "cell_type": "code",
   "execution_count": 35,
   "id": "8755a165",
   "metadata": {},
   "outputs": [],
   "source": [
    "example_template = ChatPromptTemplate.from_messages([message_template_h, message_template_a])"
   ]
  },
  {
   "cell_type": "code",
   "execution_count": 46,
   "id": "95ac6622",
   "metadata": {},
   "outputs": [],
   "source": [
    "examples = [\n",
    "    {\"pet\": \"dog\", \"response\": \"Here are some dog names: Max, Bella, Charlie.\"},\n",
    "    {\"pet\": \"cat\", \"response\": \"Here are some cat names: Whiskers, Luna, Oliver.\"}\n",
    "]"
   ]
  },
  {
   "cell_type": "code",
   "execution_count": 47,
   "id": "cf648dd7",
   "metadata": {},
   "outputs": [],
   "source": [
    "few_shot_prompt = FewShotChatMessagePromptTemplate(\n",
    "    examples=examples,\n",
    "    example_prompt = example_template\n",
    ")"
   ]
  },
  {
   "cell_type": "code",
   "execution_count": 48,
   "id": "1626c5a7",
   "metadata": {},
   "outputs": [
    {
     "data": {
      "text/plain": [
       "FewShotChatMessagePromptTemplate(examples=[{'pet': 'dog', 'response': 'Here are some dog names: Max, Bella, Charlie.'}, {'pet': 'cat', 'response': 'Here are some cat names: Whiskers, Luna, Oliver.'}], input_variables=[], input_types={}, partial_variables={}, example_prompt=ChatPromptTemplate(input_variables=['pet', 'response'], input_types={}, partial_variables={}, messages=[HumanMessagePromptTemplate(prompt=PromptTemplate(input_variables=['pet'], input_types={}, partial_variables={}, template=\"I've recently adopted a {pet}. Could you suggest some {pet} names?\"), additional_kwargs={}), AIMessagePromptTemplate(prompt=PromptTemplate(input_variables=['response'], input_types={}, partial_variables={}, template='{response}'), additional_kwargs={})]))"
      ]
     },
     "execution_count": 48,
     "metadata": {},
     "output_type": "execute_result"
    }
   ],
   "source": [
    "few_shot_prompt"
   ]
  },
  {
   "cell_type": "code",
   "execution_count": 49,
   "id": "458b415f",
   "metadata": {},
   "outputs": [
    {
     "data": {
      "text/plain": [
       "ChatPromptTemplate(input_variables=['pet'], input_types={}, partial_variables={}, messages=[FewShotChatMessagePromptTemplate(examples=[{'pet': 'dog', 'response': 'Here are some dog names: Max, Bella, Charlie.'}, {'pet': 'cat', 'response': 'Here are some cat names: Whiskers, Luna, Oliver.'}], input_variables=[], input_types={}, partial_variables={}, example_prompt=ChatPromptTemplate(input_variables=['pet', 'response'], input_types={}, partial_variables={}, messages=[HumanMessagePromptTemplate(prompt=PromptTemplate(input_variables=['pet'], input_types={}, partial_variables={}, template=\"I've recently adopted a {pet}. Could you suggest some {pet} names?\"), additional_kwargs={}), AIMessagePromptTemplate(prompt=PromptTemplate(input_variables=['response'], input_types={}, partial_variables={}, template='{response}'), additional_kwargs={})])), HumanMessagePromptTemplate(prompt=PromptTemplate(input_variables=['pet'], input_types={}, partial_variables={}, template=\"I've recently adopted a {pet}. Could you suggest some {pet} names?\"), additional_kwargs={})])"
      ]
     },
     "execution_count": 49,
     "metadata": {},
     "output_type": "execute_result"
    }
   ],
   "source": [
    "# few_shot_template と message_template_h を組み合わせて、最終的なチャットテンプレートを作成します。\n",
    "chat_template = ChatPromptTemplate.from_messages([few_shot_prompt, message_template_h])\n",
    "chat_template"
   ]
  },
  {
   "cell_type": "code",
   "execution_count": 50,
   "id": "1c936f16",
   "metadata": {},
   "outputs": [
    {
     "data": {
      "text/plain": [
       "ChatPromptValue(messages=[HumanMessage(content=\"I've recently adopted a dog. Could you suggest some dog names?\", additional_kwargs={}, response_metadata={}), AIMessage(content='Here are some dog names: Max, Bella, Charlie.', additional_kwargs={}, response_metadata={}), HumanMessage(content=\"I've recently adopted a cat. Could you suggest some cat names?\", additional_kwargs={}, response_metadata={}), AIMessage(content='Here are some cat names: Whiskers, Luna, Oliver.', additional_kwargs={}, response_metadata={}), HumanMessage(content=\"I've recently adopted a rabbit. Could you suggest some rabbit names?\", additional_kwargs={}, response_metadata={})])"
      ]
     },
     "execution_count": 50,
     "metadata": {},
     "output_type": "execute_result"
    }
   ],
   "source": [
    "# message_template_h には、まだ引数が渡されていないため、invoke()\n",
    "chat_value = chat_template.invoke({'pet': 'rabbit'})\n",
    "chat_value\n"
   ]
  },
  {
   "cell_type": "code",
   "execution_count": 51,
   "id": "08a90a9c",
   "metadata": {},
   "outputs": [
    {
     "name": "stdout",
     "output_type": "stream",
     "text": [
      "human: I've recently adopted a dog. Could you suggest some dog names?\n",
      "\n",
      "ai: Here are some dog names: Max, Bella, Charlie.\n",
      "\n",
      "human: I've recently adopted a cat. Could you suggest some cat names?\n",
      "\n",
      "ai: Here are some cat names: Whiskers, Luna, Oliver.\n",
      "\n",
      "human: I've recently adopted a rabbit. Could you suggest some rabbit names?\n",
      "\n"
     ]
    }
   ],
   "source": [
    "for i in chat_value.messages:\n",
    "    print(f'{i.type}: {i.content}\\n')"
   ]
  },
  {
   "cell_type": "code",
   "execution_count": 52,
   "id": "20291cc6",
   "metadata": {},
   "outputs": [],
   "source": [
    "ai_msg = llm.invoke(chat_value)"
   ]
  },
  {
   "cell_type": "code",
   "execution_count": 54,
   "id": "dd9df2e2",
   "metadata": {},
   "outputs": [
    {
     "data": {
      "text/plain": [
       "AIMessage(content=\"Congratulations on adopting a rabbit! Here are some fun and adorable rabbit name suggestions:\\n\\n### For Male Rabbits:\\n- Thumper  \\n- Hopper  \\n- Peter (inspired by Peter Rabbit)  \\n- Bun Bun  \\n- Oreo  \\n- Jasper  \\n- Basil  \\n- Clover  \\n- Dusty  \\n- Finn  \\n\\n### For Female Rabbits:\\n- Daisy  \\n- Hazel  \\n- Buttercup  \\n- Willow  \\n- Mochi  \\n- Poppy  \\n- Snowflake  \\n- Rosie  \\n- Maple  \\n- Nibbles  \\n\\n### Gender-Neutral Names:\\n- Flopsy  \\n- Marshmallow  \\n- Cinnabun  \\n- Peanut  \\n- Cotton  \\n- Twilight  \\n- Fudge  \\n- Patches  \\n- Cloud  \\n- Sprout  \\n\\nFeel free to mix and match or get creative based on your rabbit's personality and appearance! 🐇\", additional_kwargs={'refusal': None}, response_metadata={'token_usage': {'completion_tokens': 170, 'prompt_tokens': 88, 'total_tokens': 258, 'completion_tokens_details': {'accepted_prediction_tokens': 0, 'audio_tokens': 0, 'reasoning_tokens': 0, 'rejected_prediction_tokens': 0}, 'prompt_tokens_details': {'audio_tokens': 0, 'cached_tokens': 0}}, 'model_name': 'gpt-4o-2024-11-20', 'system_fingerprint': 'fp_3eed281ddb', 'id': 'chatcmpl-C4f46f44ETHmzp5Td2ilkpF8wTFQ6', 'service_tier': None, 'prompt_filter_results': [{'prompt_index': 0, 'content_filter_results': {'hate': {'filtered': False, 'severity': 'safe'}, 'jailbreak': {'filtered': False, 'detected': False}, 'self_harm': {'filtered': False, 'severity': 'safe'}, 'sexual': {'filtered': False, 'severity': 'safe'}, 'violence': {'filtered': False, 'severity': 'safe'}}}], 'finish_reason': 'stop', 'logprobs': None, 'content_filter_results': {'hate': {'filtered': False, 'severity': 'safe'}, 'protected_material_code': {'filtered': False, 'detected': False}, 'protected_material_text': {'filtered': False, 'detected': False}, 'self_harm': {'filtered': False, 'severity': 'safe'}, 'sexual': {'filtered': False, 'severity': 'safe'}, 'violence': {'filtered': False, 'severity': 'safe'}}}, id='run--075a08cb-491e-473b-8044-fe1666d58ef5-0', usage_metadata={'input_tokens': 88, 'output_tokens': 170, 'total_tokens': 258, 'input_token_details': {'audio': 0, 'cache_read': 0}, 'output_token_details': {'audio': 0, 'reasoning': 0}})"
      ]
     },
     "execution_count": 54,
     "metadata": {},
     "output_type": "execute_result"
    }
   ],
   "source": [
    "ai_msg"
   ]
  },
  {
   "cell_type": "code",
   "execution_count": null,
   "id": "a0f1d05e",
   "metadata": {},
   "outputs": [],
   "source": []
  }
 ],
 "metadata": {
  "kernelspec": {
   "display_name": "py312",
   "language": "python",
   "name": "python3"
  },
  "language_info": {
   "codemirror_mode": {
    "name": "ipython",
    "version": 3
   },
   "file_extension": ".py",
   "mimetype": "text/x-python",
   "name": "python",
   "nbconvert_exporter": "python",
   "pygments_lexer": "ipython3",
   "version": "3.12.11"
  }
 },
 "nbformat": 4,
 "nbformat_minor": 5
}

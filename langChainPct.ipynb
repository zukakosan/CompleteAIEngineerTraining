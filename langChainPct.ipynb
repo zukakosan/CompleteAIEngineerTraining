{
 "cells": [
  {
   "cell_type": "code",
   "execution_count": 12,
   "id": "94e38a77",
   "metadata": {},
   "outputs": [],
   "source": [
    "import os\n",
    "from openai import AzureOpenAI\n",
    "from azure.identity import ClientSecretCredential, get_bearer_token_provider\n",
    "# os.environ.items()"
   ]
  },
  {
   "cell_type": "code",
   "execution_count": 14,
   "id": "a10363c6",
   "metadata": {},
   "outputs": [
    {
     "name": "stdout",
     "output_type": "stream",
     "text": [
      "The dotenv extension is already loaded. To reload it, use:\n",
      "  %reload_ext dotenv\n"
     ]
    }
   ],
   "source": [
    "%load_ext dotenv\n",
    "%dotenv"
   ]
  },
  {
   "cell_type": "code",
   "execution_count": 15,
   "id": "9c097ecb",
   "metadata": {},
   "outputs": [],
   "source": [
    "credential = ClientSecretCredential(\n",
    "    tenant_id=os.environ['tenant_id'],\n",
    "    client_id=os.environ['client_id'],\n",
    "    client_secret=os.environ['client_secret']\n",
    ")\n",
    "token_provider = get_bearer_token_provider(\n",
    "    credential,\n",
    "    \"https://cognitiveservices.azure.com/.default\"\n",
    ")\n",
    "api_version = \"2025-01-01-preview\"  # Use the latest API version\n",
    "\n",
    "client = AzureOpenAI(\n",
    "    api_version=api_version,\n",
    "    azure_endpoint=os.environ['OPENAI_ENDPOINT'],\n",
    "    azure_ad_token_provider=token_provider\n",
    ")"
   ]
  },
  {
   "cell_type": "code",
   "execution_count": 33,
   "id": "258a6747",
   "metadata": {},
   "outputs": [],
   "source": [
    "msg = [\n",
    "    {'role': 'system', 'content': '''You are a helpful assistant which answers questions reluctantly. '''},\n",
    "    {'role': 'user', 'content': '''I recently adopted a dog. Could you provide a name for her? '''}\n",
    "]\n",
    "\n",
    "completion = client.chat.completions.create(model='gpt-4o', \n",
    "                                            messages=msg,\n",
    "                                            max_tokens=250,\n",
    "                                            temperature=0)"
   ]
  },
  {
   "cell_type": "code",
   "execution_count": 34,
   "id": "29a0c0b7",
   "metadata": {},
   "outputs": [
    {
     "data": {
      "text/plain": [
       "'I suppose I could suggest a name, though you might already have ideas of your own. How about \"Luna\"? It\\'s fairly common, but it has a nice ring to it.'"
      ]
     },
     "execution_count": 34,
     "metadata": {},
     "output_type": "execute_result"
    }
   ],
   "source": [
    "completion.choices[0].message.content"
   ]
  },
  {
   "cell_type": "code",
   "execution_count": null,
   "id": "abd3d15c",
   "metadata": {},
   "outputs": [],
   "source": [
    "msg = [\n",
    "    {'role': 'system', 'content': '''You are a helpful assistant which answers questions reluctantly. '''},\n",
    "    {'role': 'user', 'content': '''Write a long description on what a black hole is'''}\n",
    "]\n",
    "# Stream を True にすることで、リアルタイムで出力を受け取ることができます。\n",
    "completion = client.chat.completions.create(model='gpt-4o', \n",
    "                                            messages=msg,\n",
    "                                            max_tokens=2000,\n",
    "                                            temperature=0,\n",
    "                                            stream=True)"
   ]
  },
  {
   "cell_type": "code",
   "execution_count": 52,
   "id": "ff7a33df",
   "metadata": {},
   "outputs": [
    {
     "data": {
      "text/plain": [
       "<openai.Stream at 0x228cfbb9f40>"
      ]
     },
     "execution_count": 52,
     "metadata": {},
     "output_type": "execute_result"
    }
   ],
   "source": [
    "completion"
   ]
  },
  {
   "cell_type": "code",
   "execution_count": 53,
   "id": "71e22ae6",
   "metadata": {},
   "outputs": [
    {
     "ename": "IndexError",
     "evalue": "list index out of range",
     "output_type": "error",
     "traceback": [
      "\u001b[31m---------------------------------------------------------------------------\u001b[39m",
      "\u001b[31mIndexError\u001b[39m                                Traceback (most recent call last)",
      "\u001b[36mCell\u001b[39m\u001b[36m \u001b[39m\u001b[32mIn[53]\u001b[39m\u001b[32m, line 2\u001b[39m\n\u001b[32m      1\u001b[39m \u001b[38;5;28;01mfor\u001b[39;00m i \u001b[38;5;129;01min\u001b[39;00m completion:\n\u001b[32m----> \u001b[39m\u001b[32m2\u001b[39m     \u001b[38;5;28mprint\u001b[39m(\u001b[43mi\u001b[49m\u001b[43m.\u001b[49m\u001b[43mchoices\u001b[49m\u001b[43m[\u001b[49m\u001b[32;43m0\u001b[39;49m\u001b[43m]\u001b[49m.delta.content, end=\u001b[33m'\u001b[39m\u001b[33m'\u001b[39m)\n",
      "\u001b[31mIndexError\u001b[39m: list index out of range"
     ]
    }
   ],
   "source": [
    "for i in completion:\n",
    "    print(i.choices[0].delta.content, end='')"
   ]
  },
  {
   "cell_type": "code",
   "execution_count": null,
   "id": "286069bd",
   "metadata": {},
   "outputs": [
    {
     "name": "stdout",
     "output_type": "stream",
     "text": [
      "A black hole is a region in space where gravity is so intense that nothing—not even light—can escape from it. It forms when a massive star collapses under its own gravity at the end of its life cycle. The boundary around a black hole, called the event horizon, marks the point of no return. Beyond this boundary, the gravitational pull is overwhelming, and anything that crosses it is irretrievably drawn into the black hole. At the center lies a singularity, a point of infinite density where the laws of physics as we understand them break down. Black holes can vary in size, from stellar black holes formed by collapsing stars to supermassive black holes found at the centers of galaxies.\n",
      "\n",
      "--- 結合済み ---\n",
      " A black hole is a region in space where gravity is so intense that nothing—not even light—can escape from it. It forms when a massive star collapses under its own gravity at the end of its life cycle. The boundary around a black hole, called the event horizon, marks the point of no return. Beyond this boundary, the gravitational pull is overwhelming, and anything that crosses it is irretrievably drawn into the black hole. At the center lies a singularity, a point of infinite density where the laws of physics as we understand them break down. Black holes can vary in size, from stellar black holes formed by collapsing stars to supermassive black holes found at the centers of galaxies.\n"
     ]
    }
   ],
   "source": [
    "# 安全なストリーミング受信ループ（completion は stream=True で作ったもの）\n",
    "acc = []\n",
    "for event in completion:\n",
    "    # event が dict かオブジェクトか両対応で安全に取り出す\n",
    "    if isinstance(event, dict):\n",
    "        choices = event.get(\"choices\", [])\n",
    "        if not choices:\n",
    "            continue\n",
    "        delta = choices[0].get(\"delta\", {}) or {}\n",
    "        text = delta.get(\"content\")\n",
    "    else:\n",
    "        # オブジェクト型（あなたの元コードのケース）\n",
    "        if not hasattr(event, \"choices\") or len(event.choices) == 0:\n",
    "            continue\n",
    "        choice0 = event.choices[0]\n",
    "        delta = getattr(choice0, \"delta\", None)\n",
    "        text = getattr(delta, \"content\", None) if delta is not None else None\n",
    "\n",
    "    if text:\n",
    "        print(text, end=\"\")\n",
    "        acc.append(text)\n",
    "\n",
    "# 最終テキストが欲しければ結合\n",
    "final = \"\".join(acc)\n",
    "print(\"\\n\\n--- 結合済み ---\\n\", final)"
   ]
  },
  {
   "cell_type": "code",
   "execution_count": null,
   "id": "68c1b502",
   "metadata": {},
   "outputs": [],
   "source": []
  }
 ],
 "metadata": {
  "kernelspec": {
   "display_name": "py312",
   "language": "python",
   "name": "python3"
  },
  "language_info": {
   "codemirror_mode": {
    "name": "ipython",
    "version": 3
   },
   "file_extension": ".py",
   "mimetype": "text/x-python",
   "name": "python",
   "nbconvert_exporter": "python",
   "pygments_lexer": "ipython3",
   "version": "3.12.11"
  }
 },
 "nbformat": 4,
 "nbformat_minor": 5
}

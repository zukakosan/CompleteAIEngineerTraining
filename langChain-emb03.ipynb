{
 "cells": [
  {
   "cell_type": "code",
   "execution_count": 1,
   "id": "759e131b",
   "metadata": {},
   "outputs": [],
   "source": [
    "%load_ext dotenv\n",
    "%dotenv"
   ]
  },
  {
   "cell_type": "code",
   "execution_count": 8,
   "id": "b08836c8",
   "metadata": {},
   "outputs": [],
   "source": [
    "from langchain_openai import AzureOpenAIEmbeddings\n",
    "from langchain_chroma import Chroma\n",
    "from langchain_core.documents import Document"
   ]
  },
  {
   "cell_type": "code",
   "execution_count": 9,
   "id": "7a6170a3",
   "metadata": {},
   "outputs": [],
   "source": [
    "model = 'text-embedding-ada-002'\n",
    "embedding = AzureOpenAIEmbeddings(model=model)"
   ]
  },
  {
   "cell_type": "code",
   "execution_count": null,
   "id": "8c72d1de",
   "metadata": {},
   "outputs": [],
   "source": [
    "# 既存の vectorstore の読み込み\n",
    "vectorstore = Chroma(persist_directory='./data', embedding_function=embedding)"
   ]
  },
  {
   "cell_type": "code",
   "execution_count": 12,
   "id": "8496fbc5",
   "metadata": {},
   "outputs": [],
   "source": [
    "document = Document(page_content='Alright! So… How are the techniques used in data, business intelligence, or predictive analytics applied in real life? Certainly, with the help of computers. You can basically split the relevant tools into two categories—programming languages and software. Knowing a programming language enables you to devise programs that can execute specific operations. Moreover, you can reuse these programs whenever you need to execute the same action', \n",
    "metadata={'Course Title': 'Introduction to Data and Data Science', 'Lecture Title': 'Programming Languages & Software Employed in Data Science - All the Tools You Need'})"
   ]
  },
  {
   "cell_type": "code",
   "execution_count": 13,
   "id": "8a141ac7",
   "metadata": {},
   "outputs": [
    {
     "data": {
      "text/plain": [
       "['143e342c-fadb-4c40-b5a8-7bdeb695d141']"
      ]
     },
     "execution_count": 13,
     "metadata": {},
     "output_type": "execute_result"
    }
   ],
   "source": [
    "vectorstore.add_documents([document])"
   ]
  },
  {
   "cell_type": "code",
   "execution_count": 14,
   "id": "4819783f",
   "metadata": {},
   "outputs": [
    {
     "data": {
      "text/plain": [
       "{'ids': ['143e342c-fadb-4c40-b5a8-7bdeb695d141'],\n",
       " 'embeddings': None,\n",
       " 'documents': ['Alright! So… How are the techniques used in data, business intelligence, or predictive analytics applied in real life? Certainly, with the help of computers. You can basically split the relevant tools into two categories—programming languages and software. Knowing a programming language enables you to devise programs that can execute specific operations. Moreover, you can reuse these programs whenever you need to execute the same action'],\n",
       " 'uris': None,\n",
       " 'included': ['metadatas', 'documents'],\n",
       " 'data': None,\n",
       " 'metadatas': [{'Course Title': 'Introduction to Data and Data Science',\n",
       "   'Lecture Title': 'Programming Languages & Software Employed in Data Science - All the Tools You Need'}]}"
      ]
     },
     "execution_count": 14,
     "metadata": {},
     "output_type": "execute_result"
    }
   ],
   "source": [
    "vectorstore.get(['143e342c-fadb-4c40-b5a8-7bdeb695d141'])"
   ]
  },
  {
   "cell_type": "code",
   "execution_count": 15,
   "id": "11459825",
   "metadata": {},
   "outputs": [],
   "source": [
    "q = 'What programming languages are used in data science?'"
   ]
  },
  {
   "cell_type": "code",
   "execution_count": 34,
   "id": "be8058c0",
   "metadata": {},
   "outputs": [],
   "source": [
    "retrieved_docs = vectorstore.similarity_search(query=q, k=5, filter={'section title': 'Programming Languages & Software Employed in Data Science - All the Tools You Need'})\n"
   ]
  },
  {
   "cell_type": "code",
   "execution_count": 35,
   "id": "22f7ae19",
   "metadata": {},
   "outputs": [
    {
     "name": "stdout",
     "output_type": "stream",
     "text": [
      "What about big data? Apart from R and Python, people working in this area are often proficient in other languages like Java or Scala. These two have not been developed specifically for doing statistical analyses, however they turn out to be very useful when combining data from multiple sources. All right! Let’s finish off with machine learning. When it comes to machine learning, we often deal with big data\n",
      "{'section title': 'Programming Languages & Software Employed in Data Science - All the Tools You Need', 'course title': 'Introduction'}\n",
      "---\n",
      "What about big data? Apart from R and Python, people working in this area are often proficient in other languages like Java or Scala. These two have not been developed specifically for doing statistical analyses, however they turn out to be very useful when combining data from multiple sources. All right! Let’s finish off with machine learning. When it comes to machine learning, we often deal with big data\n",
      "{'course title': 'Introduction', 'section title': 'Programming Languages & Software Employed in Data Science - All the Tools You Need'}\n",
      "---\n",
      "Thus, we need a lot of computational power, and we can expect people to use the languages similar to those in the big data column. Apart from R, Python, and MATLAB, other, faster languages are used like Java, JavaScript, C, C++, and Scala. Cool. What we said may be wonderful, but that’s not all! By using one or more programming languages, people create application software or, as they are sometimes called, software solutions, that are adjusted for specific business needs\n",
      "{'course title': 'Introduction', 'section title': 'Programming Languages & Software Employed in Data Science - All the Tools You Need'}\n",
      "---\n",
      "Thus, we need a lot of computational power, and we can expect people to use the languages similar to those in the big data column. Apart from R, Python, and MATLAB, other, faster languages are used like Java, JavaScript, C, C++, and Scala. Cool. What we said may be wonderful, but that’s not all! By using one or more programming languages, people create application software or, as they are sometimes called, software solutions, that are adjusted for specific business needs\n",
      "{'section title': 'Programming Languages & Software Employed in Data Science - All the Tools You Need', 'course title': 'Introduction'}\n",
      "---\n",
      "As you can see from the infographic, R, and Python are the two most popular tools across all columns. Their biggest advantage is that they can manipulate data and are integrated within multiple data and data science software platforms. They are not just suitable for mathematical and statistical computations. In other words, R, and Python are adaptable. They can solve a wide variety of business and data-related problems from beginning to the end\n",
      "{'course title': 'Introduction', 'section title': 'Programming Languages & Software Employed in Data Science - All the Tools You Need'}\n",
      "---\n"
     ]
    }
   ],
   "source": [
    "# 冗長な出力が含まれていることが分かる\n",
    "for i in retrieved_docs:\n",
    "    print(i.page_content)\n",
    "    print(i.metadata)\n",
    "    print('---')"
   ]
  },
  {
   "cell_type": "code",
   "execution_count": 36,
   "id": "c9e05591",
   "metadata": {},
   "outputs": [],
   "source": [
    "# 冗長な出力を避けるために、MMR を用いて必要な情報だけを表示する\n",
    "# パラメータの調整によって、重複と検索性能のバランスをとる\n",
    "retrieved_docs = vectorstore.max_marginal_relevance_search(query=q, k=5, lambda_mult=0.4)\n"
   ]
  },
  {
   "cell_type": "code",
   "execution_count": 37,
   "id": "f5b52798",
   "metadata": {},
   "outputs": [
    {
     "name": "stdout",
     "output_type": "stream",
     "text": [
      "What about big data? Apart from R and Python, people working in this area are often proficient in other languages like Java or Scala. These two have not been developed specifically for doing statistical analyses, however they turn out to be very useful when combining data from multiple sources. All right! Let’s finish off with machine learning. When it comes to machine learning, we often deal with big data\n",
      "{'section title': 'Programming Languages & Software Employed in Data Science - All the Tools You Need', 'course title': 'Introduction'}\n",
      "---\n",
      "Alright! So… How are the techniques used in data, business intelligence, or predictive analytics applied in real life? Certainly, with the help of computers. You can basically split the relevant tools into two categories—programming languages and software. Knowing a programming language enables you to devise programs that can execute specific operations. Moreover, you can reuse these programs whenever you need to execute the same action\n",
      "{'course title': 'Introduction', 'section title': 'Programming Languages & Software Employed in Data Science - All the Tools You Need'}\n",
      "---\n",
      "More importantly, it will be sufficient for your need to create quick and accurate analyses. However, if your theoretical preparation is strong enough, you will find yourself restricted by software. Knowing a programming language such as R and Python, gives you the freedom to create specific, ad-hoc tools for each project you are working on\n",
      "{'section title': 'Programming Languages & Software Employed in Data Science - All the Tools You Need', 'course title': 'Introduction'}\n",
      "---\n",
      "Great! We hope we gave you a good idea about the level of applicability of the most frequently used programming and software tools in the field of data science. Thank you for watching!\n",
      "{'section title': 'Programming Languages & Software Employed in Data Science - All the Tools You Need', 'course title': 'Introduction'}\n",
      "---\n",
      "It’s actually a software framework which was designed to address the complexity of big data and its computational intensity. Most notably, Hadoop distributes the computational tasks on multiple computers which is basically the way to handle big data nowadays. Power BI, SaS, Qlik, and especially Tableau are top-notch examples of software designed for business intelligence visualizations\n",
      "{'course title': 'Introduction', 'section title': 'Programming Languages & Software Employed in Data Science - All the Tools You Need'}\n",
      "---\n"
     ]
    }
   ],
   "source": [
    "for i in retrieved_docs:\n",
    "    print(i.page_content)\n",
    "    print(i.metadata)\n",
    "    print('---')"
   ]
  },
  {
   "cell_type": "code",
   "execution_count": 38,
   "id": "0cfd1789",
   "metadata": {},
   "outputs": [],
   "source": [
    "# search type をパラメータによって簡単に変更する\n",
    "retriever = vectorstore.as_retriever(search_type='mmr', search_kwargs={'k':5, 'lambda_mult':0.4})"
   ]
  },
  {
   "cell_type": "code",
   "execution_count": 39,
   "id": "afe4f643",
   "metadata": {},
   "outputs": [
    {
     "data": {
      "text/plain": [
       "VectorStoreRetriever(tags=['Chroma', 'AzureOpenAIEmbeddings'], vectorstore=<langchain_chroma.vectorstores.Chroma object at 0x0000029168BF4B00>, search_type='mmr', search_kwargs={'k': 5, 'lambda_mult': 0.4})"
      ]
     },
     "execution_count": 39,
     "metadata": {},
     "output_type": "execute_result"
    }
   ],
   "source": [
    "retriever"
   ]
  },
  {
   "cell_type": "code",
   "execution_count": 40,
   "id": "e496cb97",
   "metadata": {},
   "outputs": [],
   "source": [
    "retrieved_docs = retriever.get_relevant_documents(q)"
   ]
  },
  {
   "cell_type": "code",
   "execution_count": 41,
   "id": "82cc1b60",
   "metadata": {},
   "outputs": [
    {
     "name": "stdout",
     "output_type": "stream",
     "text": [
      "What about big data? Apart from R and Python, people working in this area are often proficient in other languages like Java or Scala. These two have not been developed specifically for doing statistical analyses, however they turn out to be very useful when combining data from multiple sources. All right! Let’s finish off with machine learning. When it comes to machine learning, we often deal with big data\n",
      "{'section title': 'Programming Languages & Software Employed in Data Science - All the Tools You Need', 'course title': 'Introduction'}\n",
      "---\n",
      "Alright! So… How are the techniques used in data, business intelligence, or predictive analytics applied in real life? Certainly, with the help of computers. You can basically split the relevant tools into two categories—programming languages and software. Knowing a programming language enables you to devise programs that can execute specific operations. Moreover, you can reuse these programs whenever you need to execute the same action\n",
      "{'section title': 'Programming Languages & Software Employed in Data Science - All the Tools You Need', 'course title': 'Introduction'}\n",
      "---\n",
      "More importantly, it will be sufficient for your need to create quick and accurate analyses. However, if your theoretical preparation is strong enough, you will find yourself restricted by software. Knowing a programming language such as R and Python, gives you the freedom to create specific, ad-hoc tools for each project you are working on\n",
      "{'section title': 'Programming Languages & Software Employed in Data Science - All the Tools You Need', 'course title': 'Introduction'}\n",
      "---\n",
      "Great! We hope we gave you a good idea about the level of applicability of the most frequently used programming and software tools in the field of data science. Thank you for watching!\n",
      "{'course title': 'Introduction', 'section title': 'Programming Languages & Software Employed in Data Science - All the Tools You Need'}\n",
      "---\n",
      "It’s actually a software framework which was designed to address the complexity of big data and its computational intensity. Most notably, Hadoop distributes the computational tasks on multiple computers which is basically the way to handle big data nowadays. Power BI, SaS, Qlik, and especially Tableau are top-notch examples of software designed for business intelligence visualizations\n",
      "{'section title': 'Programming Languages & Software Employed in Data Science - All the Tools You Need', 'course title': 'Introduction'}\n",
      "---\n"
     ]
    }
   ],
   "source": [
    "for i in retrieved_docs:\n",
    "    print(i.page_content)\n",
    "    print(i.metadata)\n",
    "    print('---')"
   ]
  },
  {
   "cell_type": "code",
   "execution_count": null,
   "id": "ff252c62",
   "metadata": {},
   "outputs": [],
   "source": []
  }
 ],
 "metadata": {
  "kernelspec": {
   "display_name": "py312",
   "language": "python",
   "name": "python3"
  },
  "language_info": {
   "codemirror_mode": {
    "name": "ipython",
    "version": 3
   },
   "file_extension": ".py",
   "mimetype": "text/x-python",
   "name": "python",
   "nbconvert_exporter": "python",
   "pygments_lexer": "ipython3",
   "version": "3.12.11"
  }
 },
 "nbformat": 4,
 "nbformat_minor": 5
}

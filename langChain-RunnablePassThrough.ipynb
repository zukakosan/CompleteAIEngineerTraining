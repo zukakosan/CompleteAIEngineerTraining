{
 "cells": [
  {
   "cell_type": "code",
   "execution_count": 2,
   "id": "531846f2",
   "metadata": {},
   "outputs": [
    {
     "name": "stdout",
     "output_type": "stream",
     "text": [
      "The dotenv extension is already loaded. To reload it, use:\n",
      "  %reload_ext dotenv\n"
     ]
    }
   ],
   "source": [
    "%load_ext dotenv\n",
    "%dotenv\n",
    "\n",
    "import os\n",
    "from openai import AzureOpenAI\n",
    "from azure.identity import ClientSecretCredential, get_bearer_token_provider\n",
    "# Azure OpenAI Service Integration with LangChain\n",
    "from langchain_core.prompts import ChatPromptTemplate\n",
    "from langchain_core.output_parsers import StrOutputParser\n",
    "from langchain_core.runnables import RunnablePassthrough\n",
    "from langchain_openai.chat_models import AzureChatOpenAI\n",
    "from langchain.schema import HumanMessage, SystemMessage, AIMessage\n"
   ]
  },
  {
   "cell_type": "code",
   "execution_count": 21,
   "id": "0a79eb06",
   "metadata": {},
   "outputs": [],
   "source": [
    "llm = AzureChatOpenAI(\n",
    "    azure_deployment=\"gpt-4o\",\n",
    "    api_version=\"2025-01-01-preview\",\n",
    "    temperature=0,\n",
    "    max_tokens=200,\n",
    "    timeout=None,\n",
    "    max_retries=6\n",
    ")"
   ]
  },
  {
   "cell_type": "code",
   "execution_count": 22,
   "id": "9a655359",
   "metadata": {},
   "outputs": [],
   "source": [
    "chat_template_tools = ChatPromptTemplate.from_template('''\n",
    "                                                      What is the most important 5 tools for {job}?\n",
    "                                                      Answer only by listing available tools.\n",
    "                                                      ''')\n",
    "chat_template_strategy = ChatPromptTemplate.from_template('''\n",
    "                                                      What is the best strategy for learning and mastering {tools}?\n",
    "                                                      ''')"
   ]
  },
  {
   "cell_type": "code",
   "execution_count": 23,
   "id": "43462385",
   "metadata": {},
   "outputs": [],
   "source": [
    "string_parser = StrOutputParser()"
   ]
  },
  {
   "cell_type": "code",
   "execution_count": 24,
   "id": "27b75121",
   "metadata": {},
   "outputs": [],
   "source": [
    "chain_tools = chat_template_tools | llm | string_parser\n",
    "chain_strategy = chat_template_strategy | llm | string_parser"
   ]
  },
  {
   "cell_type": "code",
   "execution_count": 25,
   "id": "c84a4422",
   "metadata": {},
   "outputs": [
    {
     "name": "stdout",
     "output_type": "stream",
     "text": [
      "1. TensorFlow  \n",
      "2. PyTorch  \n",
      "3. Jupyter Notebook  \n",
      "4. Git  \n",
      "5. Docker  \n"
     ]
    }
   ],
   "source": [
    "print(chain_tools.invoke({'job': 'AI Engineer'}))"
   ]
  },
  {
   "cell_type": "code",
   "execution_count": 26,
   "id": "44cb2f4a",
   "metadata": {},
   "outputs": [
    {
     "data": {
      "text/plain": [
       "\"Mastering tools and frameworks like TensorFlow, PyTorch, Jupyter Notebook, Scikit-learn, and Git requires a structured approach. Below is a detailed strategy for learning and mastering each of these technologies:\\n\\n---\\n\\n### **1. TensorFlow**\\nTensorFlow is a powerful framework for building machine learning and deep learning models. Here's how to master it:\\n\\n#### **Step-by-Step Strategy:**\\n1. **Understand the Basics of Machine Learning and Deep Learning:**\\n   - Learn the foundational concepts like supervised/unsupervised learning, neural networks, backpropagation, etc.\\n   - Recommended resources: Andrew Ng’s Machine Learning and Deep Learning Specialization on Coursera.\\n\\n2. **Start with TensorFlow Basics:**\\n   - Learn about tensors, computational graphs, and TensorFlow’s architecture.\\n   - Work through the official TensorFlow tutorials: [TensorFlow Tutorials](https://www.tensorflow.org/tutorials).\\n\\n3. **Hands-On Practice:**\\n   - Build simple models like linear regression\""
      ]
     },
     "execution_count": 26,
     "metadata": {},
     "output_type": "execute_result"
    }
   ],
   "source": [
    "res = chain_tools.invoke({'job': 'AI Engineer'})\n",
    "chain_strategy.invoke({'tools': res})"
   ]
  },
  {
   "cell_type": "code",
   "execution_count": 27,
   "id": "a93ecc10",
   "metadata": {},
   "outputs": [],
   "source": [
    "chain_tools = chat_template_tools | llm | string_parser | {'tools': RunnablePassthrough()}\n",
    "chain_strategy = chat_template_strategy | llm | string_parser"
   ]
  },
  {
   "cell_type": "code",
   "execution_count": 28,
   "id": "6132f9d4",
   "metadata": {},
   "outputs": [
    {
     "data": {
      "text/plain": [
       "{'tools': '1. TensorFlow  \\n2. PyTorch  \\n3. Jupyter Notebook  \\n4. Git  \\n5. Docker  '}"
      ]
     },
     "execution_count": 28,
     "metadata": {},
     "output_type": "execute_result"
    }
   ],
   "source": [
    "chain_tools.invoke({'job': 'AI Engineer'})"
   ]
  },
  {
   "cell_type": "code",
   "execution_count": 29,
   "id": "522d3064",
   "metadata": {},
   "outputs": [],
   "source": [
    "chain_combined = chain_tools | chain_strategy"
   ]
  },
  {
   "cell_type": "code",
   "execution_count": 30,
   "id": "0b7ea708",
   "metadata": {},
   "outputs": [
    {
     "data": {
      "text/plain": [
       "\"Mastering tools and frameworks like TensorFlow, PyTorch, Jupyter Notebook, Scikit-learn, and Git requires a structured approach. Below is a detailed strategy for learning and mastering each of these tools:\\n\\n---\\n\\n### **1. TensorFlow**\\nTensorFlow is a powerful library for deep learning and machine learning. Here's how to master it:\\n\\n#### **Step-by-Step Strategy:**\\n1. **Understand the Basics of Machine Learning and Deep Learning:**\\n   - Learn the foundational concepts like supervised learning, unsupervised learning, neural networks, and gradient descent.\\n   - Familiarize yourself with concepts like tensors, computational graphs, and backpropagation.\\n\\n2. **Start with TensorFlow Basics:**\\n   - Learn about TensorFlow's core components: Tensors, Variables, and Operations.\\n   - Explore TensorFlow's eager execution mode and graph execution mode.\\n\\n3. **Follow Beginner Tutorials:**\\n   - Start with the official TensorFlow tutorials on their website (https://www.tensorflow.org\""
      ]
     },
     "execution_count": 30,
     "metadata": {},
     "output_type": "execute_result"
    }
   ],
   "source": [
    "chain_combined.invoke({'job': 'AI Engineer'})"
   ]
  },
  {
   "cell_type": "code",
   "execution_count": 33,
   "id": "0ef22094",
   "metadata": {},
   "outputs": [
    {
     "name": "stdout",
     "output_type": "stream",
     "text": [
      "     +-------------+       \n",
      "     | PromptInput |       \n",
      "     +-------------+       \n",
      "            *              \n",
      "            *              \n",
      "            *              \n",
      "  +--------------------+   \n",
      "  | ChatPromptTemplate |   \n",
      "  +--------------------+   \n",
      "            *              \n",
      "            *              \n",
      "            *              \n",
      "   +-----------------+     \n",
      "   | AzureChatOpenAI |     \n",
      "   +-----------------+     \n",
      "            *              \n",
      "            *              \n",
      "            *              \n",
      "   +-----------------+     \n",
      "   | StrOutputParser |     \n",
      "   +-----------------+     \n",
      "            *              \n",
      "            *              \n",
      "            *              \n",
      "+-----------------------+  \n",
      "| StrOutputParserOutput |  \n",
      "+-----------------------+  \n",
      "            *              \n",
      "            *              \n",
      "            *              \n",
      "     +-------------+       \n",
      "     | Passthrough |       \n",
      "     +-------------+       \n",
      "            *              \n",
      "            *              \n",
      "            *              \n",
      "  +--------------------+   \n",
      "  | ChatPromptTemplate |   \n",
      "  +--------------------+   \n",
      "            *              \n",
      "            *              \n",
      "            *              \n",
      "   +-----------------+     \n",
      "   | AzureChatOpenAI |     \n",
      "   +-----------------+     \n",
      "            *              \n",
      "            *              \n",
      "            *              \n",
      "   +-----------------+     \n",
      "   | StrOutputParser |     \n",
      "   +-----------------+     \n",
      "            *              \n",
      "            *              \n",
      "            *              \n",
      "+-----------------------+  \n",
      "| StrOutputParserOutput |  \n",
      "+-----------------------+  \n"
     ]
    }
   ],
   "source": [
    "chain_combined.get_graph().print_ascii()"
   ]
  },
  {
   "cell_type": "code",
   "execution_count": null,
   "id": "38f6bbf5",
   "metadata": {},
   "outputs": [],
   "source": []
  }
 ],
 "metadata": {
  "kernelspec": {
   "display_name": "py312",
   "language": "python",
   "name": "python3"
  },
  "language_info": {
   "codemirror_mode": {
    "name": "ipython",
    "version": 3
   },
   "file_extension": ".py",
   "mimetype": "text/x-python",
   "name": "python",
   "nbconvert_exporter": "python",
   "pygments_lexer": "ipython3",
   "version": "3.12.11"
  }
 },
 "nbformat": 4,
 "nbformat_minor": 5
}

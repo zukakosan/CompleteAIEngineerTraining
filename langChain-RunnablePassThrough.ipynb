{
 "cells": [
  {
   "cell_type": "code",
   "execution_count": null,
   "id": "531846f2",
   "metadata": {},
   "outputs": [],
   "source": [
    "%load_ext dotenv\n",
    "%dotenv\n",
    "\n",
    "import os\n",
    "from openai import AzureOpenAI\n",
    "from azure.identity import ClientSecretCredential, get_bearer_token_provider\n",
    "# Azure OpenAI Service Integration with LangChain\n",
    "from langchain_core.prompts import ChatPromptTemplate\n",
    "from langchain_core.output_parsers import StrOutputParser\n",
    "from langchain_core.runnables import RunnablePassthrough\n",
    "from langchain_openai.chat_models import AzureChatOpenAI\n",
    "from langchain.schema import HumanMessage, SystemMessage, AIMessage\n"
   ]
  },
  {
   "cell_type": "code",
   "execution_count": null,
   "id": "0a79eb06",
   "metadata": {},
   "outputs": [],
   "source": [
    "llm = AzureChatOpenAI(\n",
    "    azure_deployment=\"gpt-4o\",\n",
    "    api_version=\"2025-01-01-preview\",\n",
    "    temperature=0,\n",
    "    max_tokens=200,\n",
    "    timeout=None,\n",
    "    max_retries=6\n",
    ")"
   ]
  },
  {
   "cell_type": "code",
   "execution_count": null,
   "id": "9a655359",
   "metadata": {},
   "outputs": [],
   "source": [
    "chat_template_tools = ChatPromptTemplate.from_template('''\n",
    "                                                      What is the most important 5 tools for {job}?\n",
    "                                                      Answer only by listing available tools.\n",
    "                                                      ''')\n",
    "chat_template_strategy = ChatPromptTemplate.from_template('''\n",
    "                                                      What is the best strategy for learning and mastering {tools}?\n",
    "                                                      ''')"
   ]
  },
  {
   "cell_type": "code",
   "execution_count": null,
   "id": "43462385",
   "metadata": {},
   "outputs": [],
   "source": [
    "string_parser = StrOutputParser()"
   ]
  },
  {
   "cell_type": "code",
   "execution_count": null,
   "id": "27b75121",
   "metadata": {},
   "outputs": [],
   "source": [
    "chain_tools = chat_template_tools | llm | string_parser\n",
    "chain_strategy = chat_template_strategy | llm | string_parser"
   ]
  },
  {
   "cell_type": "code",
   "execution_count": null,
   "id": "c84a4422",
   "metadata": {},
   "outputs": [],
   "source": [
    "print(chain_tools.invoke({'job': 'AI Engineer'}))"
   ]
  },
  {
   "cell_type": "code",
   "execution_count": null,
   "id": "44cb2f4a",
   "metadata": {},
   "outputs": [],
   "source": [
    "res = chain_tools.invoke({'job': 'AI Engineer'})\n",
    "chain_strategy.invoke({'tools': res})"
   ]
  },
  {
   "cell_type": "code",
   "execution_count": null,
   "id": "a93ecc10",
   "metadata": {},
   "outputs": [],
   "source": [
    "chain_tools = chat_template_tools | llm | string_parser | {'tools': RunnablePassthrough()}\n",
    "chain_strategy = chat_template_strategy | llm | string_parser"
   ]
  },
  {
   "cell_type": "code",
   "execution_count": null,
   "id": "6132f9d4",
   "metadata": {},
   "outputs": [],
   "source": [
    "chain_tools.invoke({'job': 'AI Engineer'})"
   ]
  },
  {
   "cell_type": "code",
   "execution_count": null,
   "id": "522d3064",
   "metadata": {},
   "outputs": [],
   "source": [
    "chain_combined = chain_tools | chain_strategy"
   ]
  },
  {
   "cell_type": "code",
   "execution_count": null,
   "id": "0b7ea708",
   "metadata": {},
   "outputs": [],
   "source": [
    "chain_combined.invoke({'job': 'AI Engineer'})"
   ]
  },
  {
   "cell_type": "markdown",
   "id": "b65d345c",
   "metadata": {},
   "source": [
    "LangChain の状態を可視化"
   ]
  },
  {
   "cell_type": "code",
   "execution_count": null,
   "id": "0ef22094",
   "metadata": {},
   "outputs": [],
   "source": [
    "chain_combined.get_graph().print_ascii()"
   ]
  },
  {
   "cell_type": "markdown",
   "id": "666b163c",
   "metadata": {},
   "source": [
    "## Runnable Parallel\n",
    "テンプレートで使用する変数が共通の場合に、テンプレートを渡して並列実行できる\n",
    "\n",
    "Sequencial に実行するより実行時間が短くて済む"
   ]
  },
  {
   "cell_type": "code",
   "execution_count": null,
   "id": "38f6bbf5",
   "metadata": {},
   "outputs": [],
   "source": [
    "from langchain_core.runnables import RunnableParallel\n",
    "chat_template_books = ChatPromptTemplate.from_template(\n",
    "    '''\n",
    "    Suggest three of the best intermediate-level {programming language} books. \n",
    "    Answer only by listing the books.\n",
    "    '''\n",
    ")\n",
    "\n",
    "chat_template_projects = ChatPromptTemplate.from_template(\n",
    "    '''\n",
    "    Suggest three interesting {programming language} projects suitable for intermediate-level programmers. \n",
    "    Answer only by listing the projects.\n",
    "    '''\n",
    ")"
   ]
  },
  {
   "cell_type": "code",
   "execution_count": null,
   "id": "45f4e374",
   "metadata": {},
   "outputs": [],
   "source": [
    "chain_books = chat_template_books | llm | string_parser\n",
    "chain_projects = chat_template_projects | llm | string_parser"
   ]
  },
  {
   "cell_type": "code",
   "execution_count": 40,
   "id": "e72b7e42",
   "metadata": {},
   "outputs": [
    {
     "data": {
      "text/plain": [
       "{'books': '1. *Fluent Python* by Luciano Ramalho  \\n2. *Effective Python: 90 Specific Ways to Write Better Python* by Brett Slatkin  \\n3. *Python Cookbook* by David Beazley and Brian K. Jones  ',\n",
       " 'projects': '1. Personal Finance Tracker  \\n2. Weather Dashboard with API Integration  \\n3. Multiplayer Chat Application using Sockets  '}"
      ]
     },
     "execution_count": 40,
     "metadata": {},
     "output_type": "execute_result"
    }
   ],
   "source": [
    "chain_parallel = RunnableParallel({'books': chain_books, 'projects': chain_projects})\n",
    "chain_parallel.invoke({'programming language': 'Python'})"
   ]
  },
  {
   "cell_type": "code",
   "execution_count": null,
   "id": "34a52ef8",
   "metadata": {},
   "outputs": [],
   "source": [
    "chain_parallel.get_graph().print_ascii()"
   ]
  },
  {
   "cell_type": "code",
   "execution_count": 39,
   "id": "58fba0ee",
   "metadata": {},
   "outputs": [],
   "source": [
    "chat_template_time = ChatPromptTemplate.from_template(\n",
    "     '''\n",
    "     I'm an intermediate level programmer.\n",
    "     \n",
    "     Consider the following literature:\n",
    "     {books}\n",
    "     \n",
    "     Also, consider the following projects:\n",
    "     {projects}\n",
    "     \n",
    "     Roughly how much time would it take me to complete the literature and the projects?\n",
    "     \n",
    "     '''\n",
    ")"
   ]
  },
  {
   "cell_type": "code",
   "execution_count": 42,
   "id": "436cc537",
   "metadata": {},
   "outputs": [],
   "source": [
    "chain_time1 = (RunnableParallel({'books':chain_books, \n",
    "                                'projects':chain_projects}) \n",
    "              | chat_template_time \n",
    "              | llm \n",
    "              | string_parser\n",
    "             )"
   ]
  },
  {
   "cell_type": "code",
   "execution_count": 43,
   "id": "05ae7314",
   "metadata": {},
   "outputs": [
    {
     "data": {
      "text/plain": [
       "'The time required to complete the literature and projects depends on several factors, including your current skill level, the amount of time you can dedicate daily, and your familiarity with the tools and libraries involved. Below is a rough estimate for an intermediate-level programmer:\\n\\n---\\n\\n### **Literature Completion Time**\\n1. **Fluent Python by Luciano Ramalho**  \\n   - **Length**: ~800 pages  \\n   - **Focus**: Advanced Python concepts, idiomatic Python, and best practices.  \\n   - **Estimated Time**: 2–3 months (if you read ~10 pages per day and spend time experimenting with the examples).  \\n\\n2. **Effective Python: 90 Specific Ways to Write Better Python by Brett Slatkin**  \\n   - **Length**: ~300 pages  \\n   - **Focus**: Practical tips and techniques for writing better Python code.  \\n   - **Estimated Time**: 1–1.5 months (if you read ~10 pages per day'"
      ]
     },
     "execution_count": 43,
     "metadata": {},
     "output_type": "execute_result"
    }
   ],
   "source": [
    "chain_time1.invoke({'programming language': 'Python'})"
   ]
  },
  {
   "cell_type": "code",
   "execution_count": 44,
   "id": "82bbe1e2",
   "metadata": {},
   "outputs": [
    {
     "name": "stdout",
     "output_type": "stream",
     "text": [
      "               +-------------------------------+                 \n",
      "               | Parallel<books,projects>Input |                 \n",
      "               +-------------------------------+                 \n",
      "                    ***                  ***                     \n",
      "                ****                        ****                 \n",
      "              **                                **               \n",
      "+--------------------+                   +--------------------+  \n",
      "| ChatPromptTemplate |                   | ChatPromptTemplate |  \n",
      "+--------------------+                   +--------------------+  \n",
      "           *                                        *            \n",
      "           *                                        *            \n",
      "           *                                        *            \n",
      "  +-----------------+                     +-----------------+    \n",
      "  | AzureChatOpenAI |                     | AzureChatOpenAI |    \n",
      "  +-----------------+                     +-----------------+    \n",
      "           *                                        *            \n",
      "           *                                        *            \n",
      "           *                                        *            \n",
      "  +-----------------+                     +-----------------+    \n",
      "  | StrOutputParser |                     | StrOutputParser |    \n",
      "  +-----------------+                     +-----------------+    \n",
      "                    ***                  ***                     \n",
      "                       ****          ****                        \n",
      "                           **      **                            \n",
      "              +--------------------------------+                 \n",
      "              | Parallel<books,projects>Output |                 \n",
      "              +--------------------------------+                 \n",
      "                                *                                \n",
      "                                *                                \n",
      "                                *                                \n",
      "                    +--------------------+                       \n",
      "                    | ChatPromptTemplate |                       \n",
      "                    +--------------------+                       \n",
      "                                *                                \n",
      "                                *                                \n",
      "                                *                                \n",
      "                      +-----------------+                        \n",
      "                      | AzureChatOpenAI |                        \n",
      "                      +-----------------+                        \n",
      "                                *                                \n",
      "                                *                                \n",
      "                                *                                \n",
      "                      +-----------------+                        \n",
      "                      | StrOutputParser |                        \n",
      "                      +-----------------+                        \n",
      "                                *                                \n",
      "                                *                                \n",
      "                                *                                \n",
      "                   +-----------------------+                     \n",
      "                   | StrOutputParserOutput |                     \n",
      "                   +-----------------------+                     \n"
     ]
    }
   ],
   "source": [
    "chain_time1.get_graph().print_ascii()"
   ]
  },
  {
   "cell_type": "code",
   "execution_count": 45,
   "id": "229c565b",
   "metadata": {},
   "outputs": [],
   "source": [
    "chain_time2 = ({'books':chain_books, \n",
    "                                'projects':chain_projects} \n",
    "              | chat_template_time \n",
    "              | llm \n",
    "              | string_parser\n",
    "             )"
   ]
  },
  {
   "cell_type": "code",
   "execution_count": 46,
   "id": "f225e250",
   "metadata": {},
   "outputs": [
    {
     "data": {
      "text/plain": [
       "'The time required to complete the literature and projects depends on several factors, including your current skill level, the amount of time you can dedicate daily, and your familiarity with the topics covered in the books and projects. Below is a rough estimate for an intermediate-level programmer:\\n\\n---\\n\\n### **Literature Completion Time**\\n1. **Fluent Python by Luciano Ramalho**  \\n   - **Length**: ~800 pages  \\n   - **Difficulty**: Intermediate to advanced concepts, focusing on Pythonic idioms and best practices.  \\n   - **Estimated Time**: 2–3 months (if you dedicate 1–2 hours per day).  \\n     - This book is dense and requires time to absorb the concepts and practice the examples.\\n\\n2. **Effective Python: 90 Specific Ways to Write Better Python by Brett Slatkin**  \\n   - **Length**: ~300 pages  \\n   - **Difficulty**: Intermediate, with concise tips and practical advice.  \\n   - **Estimated Time'"
      ]
     },
     "execution_count": 46,
     "metadata": {},
     "output_type": "execute_result"
    }
   ],
   "source": [
    "chain_time2.invoke({'programming language': 'Python'})"
   ]
  },
  {
   "cell_type": "code",
   "execution_count": 47,
   "id": "4c9584c7",
   "metadata": {},
   "outputs": [
    {
     "name": "stdout",
     "output_type": "stream",
     "text": [
      "               +-------------------------------+                 \n",
      "               | Parallel<books,projects>Input |                 \n",
      "               +-------------------------------+                 \n",
      "                    ***                  ***                     \n",
      "                ****                        ****                 \n",
      "              **                                **               \n",
      "+--------------------+                   +--------------------+  \n",
      "| ChatPromptTemplate |                   | ChatPromptTemplate |  \n",
      "+--------------------+                   +--------------------+  \n",
      "           *                                        *            \n",
      "           *                                        *            \n",
      "           *                                        *            \n",
      "  +-----------------+                     +-----------------+    \n",
      "  | AzureChatOpenAI |                     | AzureChatOpenAI |    \n",
      "  +-----------------+                     +-----------------+    \n",
      "           *                                        *            \n",
      "           *                                        *            \n",
      "           *                                        *            \n",
      "  +-----------------+                     +-----------------+    \n",
      "  | StrOutputParser |                     | StrOutputParser |    \n",
      "  +-----------------+                     +-----------------+    \n",
      "                    ***                  ***                     \n",
      "                       ****          ****                        \n",
      "                           **      **                            \n",
      "              +--------------------------------+                 \n",
      "              | Parallel<books,projects>Output |                 \n",
      "              +--------------------------------+                 \n",
      "                                *                                \n",
      "                                *                                \n",
      "                                *                                \n",
      "                    +--------------------+                       \n",
      "                    | ChatPromptTemplate |                       \n",
      "                    +--------------------+                       \n",
      "                                *                                \n",
      "                                *                                \n",
      "                                *                                \n",
      "                      +-----------------+                        \n",
      "                      | AzureChatOpenAI |                        \n",
      "                      +-----------------+                        \n",
      "                                *                                \n",
      "                                *                                \n",
      "                                *                                \n",
      "                      +-----------------+                        \n",
      "                      | StrOutputParser |                        \n",
      "                      +-----------------+                        \n",
      "                                *                                \n",
      "                                *                                \n",
      "                                *                                \n",
      "                   +-----------------------+                     \n",
      "                   | StrOutputParserOutput |                     \n",
      "                   +-----------------------+                     \n"
     ]
    }
   ],
   "source": [
    "chain_time2.get_graph().print_ascii()"
   ]
  },
  {
   "cell_type": "markdown",
   "id": "e253266c",
   "metadata": {},
   "source": [
    "どういうフローで処理をつなげていくのか、頭の中でイメージしながら組んでいく必要がある"
   ]
  },
  {
   "cell_type": "code",
   "execution_count": null,
   "id": "e5b18347",
   "metadata": {},
   "outputs": [],
   "source": []
  }
 ],
 "metadata": {
  "kernelspec": {
   "display_name": "py312",
   "language": "python",
   "name": "python3"
  },
  "language_info": {
   "codemirror_mode": {
    "name": "ipython",
    "version": 3
   },
   "file_extension": ".py",
   "mimetype": "text/x-python",
   "name": "python",
   "nbconvert_exporter": "python",
   "pygments_lexer": "ipython3",
   "version": "3.12.11"
  }
 },
 "nbformat": 4,
 "nbformat_minor": 5
}

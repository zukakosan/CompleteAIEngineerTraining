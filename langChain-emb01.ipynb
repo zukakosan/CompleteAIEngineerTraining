{
 "cells": [
  {
   "cell_type": "markdown",
   "id": "1d5f22b6",
   "metadata": {},
   "source": [
    "# Indexing Text Embedding with OpenAI"
   ]
  },
  {
   "cell_type": "code",
   "execution_count": 3,
   "id": "47695594",
   "metadata": {},
   "outputs": [],
   "source": [
    "%load_ext dotenv\n",
    "%dotenv"
   ]
  },
  {
   "cell_type": "code",
   "execution_count": 4,
   "id": "c6be6686",
   "metadata": {},
   "outputs": [],
   "source": [
    "from langchain_community.document_loaders import Docx2txtLoader\n",
    "from langchain_text_splitters.markdown import MarkdownHeaderTextSplitter\n",
    "from langchain_text_splitters.character import CharacterTextSplitter\n",
    "from langchain_openai import AzureOpenAIEmbeddings"
   ]
  },
  {
   "cell_type": "code",
   "execution_count": 5,
   "id": "fc61f936",
   "metadata": {},
   "outputs": [],
   "source": [
    "loader_docx = Docx2txtLoader(\"./Introduction_to_Data_and_Data_Science_2.docx\")\n",
    "pages = loader_docx.load()\n",
    "\n",
    "md_splitter = MarkdownHeaderTextSplitter(\n",
    "    headers_to_split_on=[(\"#\",\"course title\"), \n",
    "        (\"##\",\"section title\")]\n",
    ")\n",
    "\n",
    "pages_md_split = md_splitter.split_text(pages[0].page_content)"
   ]
  },
  {
   "cell_type": "code",
   "execution_count": 6,
   "id": "5cb24b30",
   "metadata": {},
   "outputs": [],
   "source": [
    "# pages_md_split"
   ]
  },
  {
   "cell_type": "code",
   "execution_count": 7,
   "id": "41c40731",
   "metadata": {},
   "outputs": [
    {
     "name": "stdout",
     "output_type": "stream",
     "text": [
      "2\n",
      "20\n"
     ]
    }
   ],
   "source": [
    "for i in pages_md_split:\n",
    "    i.page_content = ' '.join(i.page_content.split())\n",
    "\n",
    "print(len(pages_md_split))\n",
    "\n",
    "char_splitter = CharacterTextSplitter(separator = \".\", chunk_size = 500, chunk_overlap = 50)\n",
    "\n",
    "pages_char_split = char_splitter.split_documents(pages_md_split)\n",
    "\n",
    "print(len(pages_char_split))"
   ]
  },
  {
   "cell_type": "code",
   "execution_count": 9,
   "id": "da1df97d",
   "metadata": {},
   "outputs": [],
   "source": [
    "embedding = AzureOpenAIEmbeddings(model=\"text-embedding-ada-002\")"
   ]
  },
  {
   "cell_type": "code",
   "execution_count": 10,
   "id": "b367781f",
   "metadata": {},
   "outputs": [],
   "source": [
    "vector3 = embedding.embed_query(pages_char_split[3].page_content)\n",
    "vector5 = embedding.embed_query(pages_char_split[5].page_content)\n",
    "vector18 = embedding.embed_query(pages_char_split[18].page_content)\n"
   ]
  },
  {
   "cell_type": "code",
   "execution_count": 11,
   "id": "1d8dc712",
   "metadata": {},
   "outputs": [
    {
     "data": {
      "text/plain": [
       "(1536, 1536, 1536)"
      ]
     },
     "execution_count": 11,
     "metadata": {},
     "output_type": "execute_result"
    }
   ],
   "source": [
    "len(vector3), len(vector5), len(vector18)"
   ]
  },
  {
   "cell_type": "code",
   "execution_count": 12,
   "id": "76f5578e",
   "metadata": {},
   "outputs": [
    {
     "data": {
      "text/plain": [
       "(np.float64(0.879128449794393),\n",
       " np.float64(0.8000235828747095),\n",
       " np.float64(0.7934993700101878))"
      ]
     },
     "execution_count": 12,
     "metadata": {},
     "output_type": "execute_result"
    }
   ],
   "source": [
    "import numpy as np\n",
    "np.dot(vector3, vector5), np.dot(vector3, vector18), np.dot(vector5, vector18)"
   ]
  },
  {
   "cell_type": "code",
   "execution_count": null,
   "id": "716b2e46",
   "metadata": {},
   "outputs": [
    {
     "data": {
      "text/plain": [
       "(np.float64(0.999999951896922),\n",
       " np.float64(0.9999999432048747),\n",
       " np.float64(0.9999999688261214))"
      ]
     },
     "execution_count": 14,
     "metadata": {},
     "output_type": "execute_result"
    }
   ],
   "source": [
    "# vector の絶対値を取る\n",
    "np.linalg.norm(vector3), np.linalg.norm(vector5), np.linalg.norm(vector18) "
   ]
  },
  {
   "cell_type": "code",
   "execution_count": null,
   "id": "4f3a40fc",
   "metadata": {},
   "outputs": [],
   "source": [
    "from langchain_chroma import Chroma\n",
    "# document から embeding インスタンスを使ってベクトルDBを作成、保存する\n",
    "vectorstore = Chroma.from_documents(documents = pages_char_split, embedding = embedding, persist_directory = \"./data\")"
   ]
  },
  {
   "cell_type": "code",
   "execution_count": null,
   "id": "6275286a",
   "metadata": {},
   "outputs": [],
   "source": [
    "# ベクトルDBをディレクトリから読み込む\n",
    "vectorstore_from_directory = Chroma(persist_directory = \"./data\", embedding_function = embedding)"
   ]
  },
  {
   "cell_type": "code",
   "execution_count": null,
   "id": "1656f415",
   "metadata": {},
   "outputs": [],
   "source": []
  }
 ],
 "metadata": {
  "kernelspec": {
   "display_name": "py312",
   "language": "python",
   "name": "python3"
  },
  "language_info": {
   "codemirror_mode": {
    "name": "ipython",
    "version": 3
   },
   "file_extension": ".py",
   "mimetype": "text/x-python",
   "name": "python",
   "nbconvert_exporter": "python",
   "pygments_lexer": "ipython3",
   "version": "3.12.11"
  }
 },
 "nbformat": 4,
 "nbformat_minor": 5
}

{
 "cells": [
  {
   "cell_type": "code",
   "execution_count": 6,
   "id": "53c2ff83",
   "metadata": {},
   "outputs": [
    {
     "name": "stdout",
     "output_type": "stream",
     "text": [
      "The dotenv extension is already loaded. To reload it, use:\n",
      "  %reload_ext dotenv\n"
     ]
    }
   ],
   "source": [
    "%load_ext dotenv\n",
    "%dotenv\n",
    "\n",
    "import os\n",
    "from openai import AzureOpenAI\n",
    "from azure.identity import ClientSecretCredential, get_bearer_token_provider\n",
    "# Azure OpenAI Service Integration with LangChain\n",
    "from langchain_core.prompts import ChatPromptTemplate\n",
    "from langchain_openai.chat_models import AzureChatOpenAI\n",
    "from langchain.schema import HumanMessage, SystemMessage, AIMessage"
   ]
  },
  {
   "cell_type": "code",
   "execution_count": 17,
   "id": "1a921672",
   "metadata": {},
   "outputs": [],
   "source": [
    "# 環境変数から認証情報を自動認識\n",
    "# LangChain の中の AzureChatOpenAI インスタンス\n",
    "llm = AzureChatOpenAI(\n",
    "    azure_deployment=\"gpt-4o\",\n",
    "    api_version=\"2025-01-01-preview\",\n",
    "    temperature=0,\n",
    "    max_tokens=None,\n",
    "    timeout=None,\n",
    "    max_retries=6\n",
    ")"
   ]
  },
  {
   "cell_type": "code",
   "execution_count": 3,
   "id": "11a986a5",
   "metadata": {},
   "outputs": [],
   "source": [
    "from langchain_core.output_parsers import CommaSeparatedListOutputParser\n",
    "list_instruction = CommaSeparatedListOutputParser().get_format_instructions()"
   ]
  },
  {
   "cell_type": "code",
   "execution_count": 4,
   "id": "48c397f8",
   "metadata": {},
   "outputs": [
    {
     "name": "stdout",
     "output_type": "stream",
     "text": [
      "List Instruction: Your response should be a list of comma separated values, eg: `foo, bar, baz` or `foo,bar,baz`\n"
     ]
    }
   ],
   "source": [
    "print(\"List Instruction:\", list_instruction)"
   ]
  },
  {
   "cell_type": "code",
   "execution_count": 10,
   "id": "74eb47c7",
   "metadata": {},
   "outputs": [],
   "source": [
    "chat_template = ChatPromptTemplate.from_messages([\n",
    "    SystemMessage(content=\"You are a helpful assistant.\"),\n",
    "    HumanMessage(content=\"Could you suggest some names for a {pet}?\\n\"+list_instruction),\n",
    "])"
   ]
  },
  {
   "cell_type": "code",
   "execution_count": 11,
   "id": "ee410267",
   "metadata": {},
   "outputs": [],
   "source": [
    "chat_value = chat_template.invoke({'pet':'dog'})"
   ]
  },
  {
   "cell_type": "code",
   "execution_count": 19,
   "id": "e85f4639",
   "metadata": {},
   "outputs": [],
   "source": [
    "res = llm.invoke(chat_value)"
   ]
  },
  {
   "cell_type": "code",
   "execution_count": 20,
   "id": "36de3347",
   "metadata": {},
   "outputs": [
    {
     "data": {
      "text/plain": [
       "['Fluffy',\n",
       " 'Bella',\n",
       " 'Max',\n",
       " 'Luna',\n",
       " 'Charlie',\n",
       " 'Daisy',\n",
       " 'Milo',\n",
       " 'Coco',\n",
       " 'Rocky',\n",
       " 'Oliver',\n",
       " 'Ruby',\n",
       " 'Teddy',\n",
       " 'Hazel',\n",
       " 'Finn',\n",
       " 'Willow']"
      ]
     },
     "execution_count": 20,
     "metadata": {},
     "output_type": "execute_result"
    }
   ],
   "source": [
    "list_output_parser = CommaSeparatedListOutputParser()\n",
    "list_output_parser.invoke(res)"
   ]
  },
  {
   "cell_type": "markdown",
   "id": "b7d1059f",
   "metadata": {},
   "source": [
    "LangChain らしく Chain を使って書く"
   ]
  },
  {
   "cell_type": "code",
   "execution_count": 56,
   "id": "2e7b35aa",
   "metadata": {},
   "outputs": [
    {
     "data": {
      "text/plain": [
       "['Of course! Could you']"
      ]
     },
     "execution_count": 56,
     "metadata": {},
     "output_type": "execute_result"
    }
   ],
   "source": [
    "# pipe を使って invoke() を連鎖できる\n",
    "chain = chat_template | llm | list_output_parser\n",
    "chain.invoke({'pet': 'cat'})"
   ]
  },
  {
   "cell_type": "markdown",
   "id": "0aa5ba7c",
   "metadata": {},
   "source": [
    "ちなみに、LangChain の AzureChatOpenAI にサービスプリンシパル認証を適用するには？"
   ]
  },
  {
   "cell_type": "code",
   "execution_count": 60,
   "id": "05e999f3",
   "metadata": {},
   "outputs": [],
   "source": [
    "from azure.identity import ClientSecretCredential, get_bearer_token_provider\n",
    "from langchain_openai.chat_models import AzureChatOpenAI\n",
    "\n",
    "credential = ClientSecretCredential(\n",
    "    tenant_id=os.environ[\"tenant_id\"],\n",
    "    client_id=os.environ[\"client_id\"],\n",
    "    client_secret=os.environ[\"client_secret\"]\n",
    ")\n",
    "token_provider = get_bearer_token_provider(\n",
    "    credential,\n",
    "    \"https://cognitiveservices.azure.com/.default\"\n",
    ")\n",
    "endpoint = os.environ[\"AZURE_OPENAI_ENDPOINT\"]\n",
    "api_version = \"2025-01-01-preview\"\n",
    "model_deploy_name = \"gpt-4o\"\n",
    "llm = AzureChatOpenAI(\n",
    "    azure_deployment=model_deploy_name,\n",
    "    api_version=api_version,\n",
    "    azure_endpoint=endpoint,\n",
    "    azure_ad_token_provider=token_provider,\n",
    "    temperature=0,\n",
    "    max_tokens=None,\n",
    ")"
   ]
  },
  {
   "cell_type": "code",
   "execution_count": 30,
   "id": "e1de5c26",
   "metadata": {},
   "outputs": [
    {
     "data": {
      "text/plain": [
       "['Fluffy', 'Bella', '']"
      ]
     },
     "execution_count": 30,
     "metadata": {},
     "output_type": "execute_result"
    }
   ],
   "source": [
    "list_output_parser.invoke(llm.invoke(chat_value))"
   ]
  },
  {
   "cell_type": "markdown",
   "id": "6ff018df",
   "metadata": {},
   "source": [
    "## Batch()\n",
    "- invoke() を parallel で実行する"
   ]
  },
  {
   "cell_type": "code",
   "execution_count": 31,
   "id": "8e4fbcb2",
   "metadata": {},
   "outputs": [],
   "source": [
    "chat_template = ChatPromptTemplate.from_messages([\n",
    "    SystemMessage(content=\"You are a helpful assistant.\"),\n",
    "    HumanMessage(content=\"Could you suggest some names for a {pet} which is a {breed}?\\n\"+list_instruction),\n",
    "])"
   ]
  },
  {
   "cell_type": "code",
   "execution_count": 64,
   "id": "425cd3e6",
   "metadata": {},
   "outputs": [
    {
     "data": {
      "text/plain": [
       "AIMessage(content='Of course! Could you please specify the type of pet (e.g., dog, cat, etc.) and the breed?', additional_kwargs={'refusal': None}, response_metadata={'token_usage': {'completion_tokens': 26, 'prompt_tokens': 62, 'total_tokens': 88, 'completion_tokens_details': {'accepted_prediction_tokens': 0, 'audio_tokens': 0, 'reasoning_tokens': 0, 'rejected_prediction_tokens': 0}, 'prompt_tokens_details': {'audio_tokens': 0, 'cached_tokens': 0}}, 'model_name': 'gpt-4o-2024-11-20', 'system_fingerprint': 'fp_3eed281ddb', 'id': 'chatcmpl-C5LYAZES9qCKSfamnQiPvBr3E1XyZ', 'service_tier': None, 'prompt_filter_results': [{'prompt_index': 0, 'content_filter_results': {'hate': {'filtered': False, 'severity': 'safe'}, 'jailbreak': {'filtered': False, 'detected': False}, 'self_harm': {'filtered': False, 'severity': 'safe'}, 'sexual': {'filtered': False, 'severity': 'safe'}, 'violence': {'filtered': False, 'severity': 'safe'}}}], 'finish_reason': 'stop', 'logprobs': None, 'content_filter_results': {'hate': {'filtered': False, 'severity': 'safe'}, 'self_harm': {'filtered': False, 'severity': 'safe'}, 'sexual': {'filtered': False, 'severity': 'safe'}, 'violence': {'filtered': False, 'severity': 'safe'}}}, id='run--70388cc3-b594-4cfa-89c0-0a8018c66471-0', usage_metadata={'input_tokens': 62, 'output_tokens': 26, 'total_tokens': 88, 'input_token_details': {'audio': 0, 'cache_read': 0}, 'output_token_details': {'audio': 0, 'reasoning': 0}})"
      ]
     },
     "execution_count": 64,
     "metadata": {},
     "output_type": "execute_result"
    }
   ],
   "source": [
    "chain = chat_template | llm\n",
    "chain.invoke({'pet': 'dog', 'breed': 'pomeranian'})"
   ]
  },
  {
   "cell_type": "code",
   "execution_count": 65,
   "id": "b07acfba",
   "metadata": {},
   "outputs": [
    {
     "data": {
      "text/plain": [
       "[AIMessage(content='Of course! Could you please specify the type of pet (e.g., dog, cat, etc.) and the breed?', additional_kwargs={'refusal': None}, response_metadata={'token_usage': {'completion_tokens': 26, 'prompt_tokens': 62, 'total_tokens': 88, 'completion_tokens_details': {'accepted_prediction_tokens': 0, 'audio_tokens': 0, 'reasoning_tokens': 0, 'rejected_prediction_tokens': 0}, 'prompt_tokens_details': {'audio_tokens': 0, 'cached_tokens': 0}}, 'model_name': 'gpt-4o-2024-11-20', 'system_fingerprint': 'fp_3eed281ddb', 'id': 'chatcmpl-C5LYBRuNMUCgpZANPTGrtOkhK61Os', 'service_tier': None, 'prompt_filter_results': [{'prompt_index': 0, 'content_filter_results': {'hate': {'filtered': False, 'severity': 'safe'}, 'jailbreak': {'filtered': False, 'detected': False}, 'self_harm': {'filtered': False, 'severity': 'safe'}, 'sexual': {'filtered': False, 'severity': 'safe'}, 'violence': {'filtered': False, 'severity': 'safe'}}}], 'finish_reason': 'stop', 'logprobs': None, 'content_filter_results': {'hate': {'filtered': False, 'severity': 'safe'}, 'self_harm': {'filtered': False, 'severity': 'safe'}, 'sexual': {'filtered': False, 'severity': 'safe'}, 'violence': {'filtered': False, 'severity': 'safe'}}}, id='run--880b791b-14d5-4ee9-8253-22e5a8ef536c-0', usage_metadata={'input_tokens': 62, 'output_tokens': 26, 'total_tokens': 88, 'input_token_details': {'audio': 0, 'cache_read': 0}, 'output_token_details': {'audio': 0, 'reasoning': 0}}),\n",
       " AIMessage(content='Of course! Could you please specify the type of pet (e.g., dog, cat, etc.) and the breed?', additional_kwargs={'refusal': None}, response_metadata={'token_usage': {'completion_tokens': 26, 'prompt_tokens': 62, 'total_tokens': 88, 'completion_tokens_details': {'accepted_prediction_tokens': 0, 'audio_tokens': 0, 'reasoning_tokens': 0, 'rejected_prediction_tokens': 0}, 'prompt_tokens_details': {'audio_tokens': 0, 'cached_tokens': 0}}, 'model_name': 'gpt-4o-2024-11-20', 'system_fingerprint': 'fp_3eed281ddb', 'id': 'chatcmpl-C5LYBKk5MFxFZ3N5v1ip9Gn7MJxjo', 'service_tier': None, 'prompt_filter_results': [{'prompt_index': 0, 'content_filter_results': {'hate': {'filtered': False, 'severity': 'safe'}, 'jailbreak': {'filtered': False, 'detected': False}, 'self_harm': {'filtered': False, 'severity': 'safe'}, 'sexual': {'filtered': False, 'severity': 'safe'}, 'violence': {'filtered': False, 'severity': 'safe'}}}], 'finish_reason': 'stop', 'logprobs': None, 'content_filter_results': {'hate': {'filtered': False, 'severity': 'safe'}, 'self_harm': {'filtered': False, 'severity': 'safe'}, 'sexual': {'filtered': False, 'severity': 'safe'}, 'violence': {'filtered': False, 'severity': 'safe'}}}, id='run--76fcb6b2-6a05-4a01-80b2-17c67064ad7f-0', usage_metadata={'input_tokens': 62, 'output_tokens': 26, 'total_tokens': 88, 'input_token_details': {'audio': 0, 'cache_read': 0}, 'output_token_details': {'audio': 0, 'reasoning': 0}})]"
      ]
     },
     "execution_count": 65,
     "metadata": {},
     "output_type": "execute_result"
    }
   ],
   "source": [
    "chain.batch([\n",
    "    {'pet': 'dog', 'breed': 'pomeranian'},\n",
    "    {'pet': 'cat', 'breed': 'siamese'}\n",
    "])"
   ]
  },
  {
   "cell_type": "code",
   "execution_count": 66,
   "id": "7934c181",
   "metadata": {},
   "outputs": [],
   "source": [
    "res = chain.stream({'pet': 'dog', 'breed': 'pomeranian'})\n"
   ]
  },
  {
   "cell_type": "code",
   "execution_count": 68,
   "id": "715274df",
   "metadata": {},
   "outputs": [
    {
     "data": {
      "text/plain": [
       "AIMessageChunk(content='', additional_kwargs={}, response_metadata={}, id='run--8f706274-23cf-413b-82b6-c9ed93e9fc1f')"
      ]
     },
     "execution_count": 68,
     "metadata": {},
     "output_type": "execute_result"
    }
   ],
   "source": [
    "next(res)"
   ]
  },
  {
   "cell_type": "code",
   "execution_count": 69,
   "id": "f63d5165",
   "metadata": {},
   "outputs": [
    {
     "name": "stdout",
     "output_type": "stream",
     "text": [
      "Of course! Could you please specify the type of pet (e.g., dog, cat, etc.) and the breed?"
     ]
    }
   ],
   "source": [
    "for i in res:\n",
    "    print(i.content, end='')"
   ]
  },
  {
   "cell_type": "code",
   "execution_count": null,
   "id": "e99cbd3e",
   "metadata": {},
   "outputs": [],
   "source": []
  },
  {
   "cell_type": "code",
   "execution_count": null,
   "id": "19200dca",
   "metadata": {},
   "outputs": [],
   "source": []
  }
 ],
 "metadata": {
  "kernelspec": {
   "display_name": "py312",
   "language": "python",
   "name": "python3"
  },
  "language_info": {
   "codemirror_mode": {
    "name": "ipython",
    "version": 3
   },
   "file_extension": ".py",
   "mimetype": "text/x-python",
   "name": "python",
   "nbconvert_exporter": "python",
   "pygments_lexer": "ipython3",
   "version": "3.12.11"
  }
 },
 "nbformat": 4,
 "nbformat_minor": 5
}

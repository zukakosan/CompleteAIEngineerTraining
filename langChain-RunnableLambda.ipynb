{
 "cells": [
  {
   "cell_type": "markdown",
   "id": "1eb1905b",
   "metadata": {},
   "source": [
    "# Runnable Lambda\n",
    "Runnable Lambda 型で関数をラップすることで | によって chainをつなげることができ、任意の関数をフローで実行できる"
   ]
  },
  {
   "cell_type": "code",
   "execution_count": 17,
   "id": "d6a8842a",
   "metadata": {},
   "outputs": [
    {
     "name": "stdout",
     "output_type": "stream",
     "text": [
      "The dotenv extension is already loaded. To reload it, use:\n",
      "  %reload_ext dotenv\n"
     ]
    }
   ],
   "source": [
    "%load_ext dotenv\n",
    "%dotenv\n",
    "\n",
    "import os\n",
    "from openai import AzureOpenAI\n",
    "from azure.identity import ClientSecretCredential, get_bearer_token_provider\n",
    "# Azure OpenAI Service Integration with LangChain\n",
    "from langchain_core.prompts import ChatPromptTemplate\n",
    "from langchain_core.output_parsers import StrOutputParser\n",
    "from langchain_core.runnables import RunnablePassthrough\n",
    "from langchain_openai.chat_models import AzureChatOpenAI\n",
    "from langchain.schema import HumanMessage, SystemMessage, AIMessage\n",
    "\n",
    "from langchain_core.runnables import RunnableLambda\n",
    "from langchain_core.runnables import chain"
   ]
  },
  {
   "cell_type": "code",
   "execution_count": 18,
   "id": "0a1a521e",
   "metadata": {},
   "outputs": [],
   "source": [
    "find_sum = lambda x: sum(x)"
   ]
  },
  {
   "cell_type": "code",
   "execution_count": 19,
   "id": "7b0f9030",
   "metadata": {},
   "outputs": [
    {
     "data": {
      "text/plain": [
       "8"
      ]
     },
     "execution_count": 19,
     "metadata": {},
     "output_type": "execute_result"
    }
   ],
   "source": [
    "find_sum([1,2,5])"
   ]
  },
  {
   "cell_type": "code",
   "execution_count": 20,
   "id": "3e293107",
   "metadata": {},
   "outputs": [],
   "source": [
    "find_squre = lambda x: x**2"
   ]
  },
  {
   "cell_type": "code",
   "execution_count": 21,
   "id": "cdb37198",
   "metadata": {},
   "outputs": [
    {
     "data": {
      "text/plain": [
       "64"
      ]
     },
     "execution_count": 21,
     "metadata": {},
     "output_type": "execute_result"
    }
   ],
   "source": [
    "find_squre(8)"
   ]
  },
  {
   "cell_type": "code",
   "execution_count": 22,
   "id": "ef9086d4",
   "metadata": {},
   "outputs": [],
   "source": [
    "runnable_sum = RunnableLambda(lambda x: sum(x))"
   ]
  },
  {
   "cell_type": "code",
   "execution_count": 23,
   "id": "d25608bd",
   "metadata": {},
   "outputs": [
    {
     "data": {
      "text/plain": [
       "8"
      ]
     },
     "execution_count": 23,
     "metadata": {},
     "output_type": "execute_result"
    }
   ],
   "source": [
    "runnable_sum.invoke([1,2,5])"
   ]
  },
  {
   "cell_type": "code",
   "execution_count": 24,
   "id": "cef7b3a1",
   "metadata": {},
   "outputs": [
    {
     "data": {
      "text/plain": [
       "64"
      ]
     },
     "execution_count": 24,
     "metadata": {},
     "output_type": "execute_result"
    }
   ],
   "source": [
    "runnable_square = RunnableLambda(lambda x: x**2)\n",
    "runnable_square.invoke(8)"
   ]
  },
  {
   "cell_type": "code",
   "execution_count": 25,
   "id": "94252b6a",
   "metadata": {},
   "outputs": [],
   "source": [
    "chain0 = runnable_sum | runnable_square"
   ]
  },
  {
   "cell_type": "code",
   "execution_count": 26,
   "id": "98c88a90",
   "metadata": {},
   "outputs": [
    {
     "data": {
      "text/plain": [
       "64"
      ]
     },
     "execution_count": 26,
     "metadata": {},
     "output_type": "execute_result"
    }
   ],
   "source": [
    "chain0.invoke([1,2,5])"
   ]
  },
  {
   "cell_type": "code",
   "execution_count": 27,
   "id": "9732ff10",
   "metadata": {},
   "outputs": [
    {
     "name": "stdout",
     "output_type": "stream",
     "text": [
      "+-------------+  \n",
      "| LambdaInput |  \n",
      "+-------------+  \n",
      "        *        \n",
      "        *        \n",
      "        *        \n",
      "   +--------+    \n",
      "   | Lambda |    \n",
      "   +--------+    \n",
      "        *        \n",
      "        *        \n",
      "        *        \n",
      "   +--------+    \n",
      "   | Lambda |    \n",
      "   +--------+    \n",
      "        *        \n",
      "        *        \n",
      "        *        \n",
      "+--------------+ \n",
      "| LambdaOutput | \n",
      "+--------------+ \n"
     ]
    }
   ],
   "source": [
    "chain0.get_graph().print_ascii()"
   ]
  },
  {
   "cell_type": "markdown",
   "id": "f11db2be",
   "metadata": {},
   "source": [
    "# @chain dacorator\n",
    "@chain を関数にアタッチすることで、RunnableLambda を適用した状態として関数を定義できる"
   ]
  },
  {
   "cell_type": "code",
   "execution_count": 28,
   "id": "1a9cb3ae",
   "metadata": {},
   "outputs": [],
   "source": [
    "def find_sum(x):\n",
    "    return sum(x)\n",
    "\n",
    "def find_square(x):\n",
    "    return x**2"
   ]
  },
  {
   "cell_type": "code",
   "execution_count": 29,
   "id": "ea12df69",
   "metadata": {},
   "outputs": [],
   "source": [
    "chain1 = RunnableLambda(find_sum) | RunnableLambda(find_square)"
   ]
  },
  {
   "cell_type": "code",
   "execution_count": 30,
   "id": "2cbe5788",
   "metadata": {},
   "outputs": [
    {
     "data": {
      "text/plain": [
       "64"
      ]
     },
     "execution_count": 30,
     "metadata": {},
     "output_type": "execute_result"
    }
   ],
   "source": [
    "chain1.invoke([1,2,5])"
   ]
  },
  {
   "cell_type": "code",
   "execution_count": 31,
   "id": "46cbcdf7",
   "metadata": {},
   "outputs": [],
   "source": [
    "@chain\n",
    "def runnable_sum(x):\n",
    "    return sum(x)\n",
    "\n",
    "@chain\n",
    "def runnable_square(x):\n",
    "    return x**2"
   ]
  },
  {
   "cell_type": "code",
   "execution_count": 32,
   "id": "932c8b45",
   "metadata": {},
   "outputs": [
    {
     "data": {
      "text/plain": [
       "64"
      ]
     },
     "execution_count": 32,
     "metadata": {},
     "output_type": "execute_result"
    }
   ],
   "source": [
    "chain2 = runnable_sum | runnable_square\n",
    "chain2.invoke([1,2,5])"
   ]
  },
  {
   "cell_type": "code",
   "execution_count": null,
   "id": "1a22342e",
   "metadata": {},
   "outputs": [],
   "source": []
  }
 ],
 "metadata": {
  "kernelspec": {
   "display_name": "py312",
   "language": "python",
   "name": "python3"
  },
  "language_info": {
   "codemirror_mode": {
    "name": "ipython",
    "version": 3
   },
   "file_extension": ".py",
   "mimetype": "text/x-python",
   "name": "python",
   "nbconvert_exporter": "python",
   "pygments_lexer": "ipython3",
   "version": "3.12.11"
  }
 },
 "nbformat": 4,
 "nbformat_minor": 5
}

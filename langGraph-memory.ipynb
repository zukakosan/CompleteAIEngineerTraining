{
 "cells": [
  {
   "cell_type": "code",
   "execution_count": 1,
   "id": "b446168d",
   "metadata": {},
   "outputs": [],
   "source": [
    "%load_ext dotenv\n",
    "%dotenv\n",
    "%load_ext mypy_ipython"
   ]
  },
  {
   "cell_type": "code",
   "execution_count": 2,
   "id": "007b70db",
   "metadata": {},
   "outputs": [],
   "source": [
    "from langgraph.graph import START, END, StateGraph, MessagesState\n",
    "from langchain_openai.chat_models import AzureChatOpenAI\n",
    "from langchain_core.messages import AIMessage, HumanMessage, BaseMessage, RemoveMessage, SystemMessage\n",
    "from langgraph.checkpoint.memory import InMemorySaver\n",
    "import sqlite3\n",
    "from langgraph.checkpoint.sqlite import SqliteSaver"
   ]
  },
  {
   "cell_type": "code",
   "execution_count": 3,
   "id": "03c4d1bd",
   "metadata": {},
   "outputs": [],
   "source": [
    "class State(MessagesState):\n",
    "    summary: str"
   ]
  },
  {
   "cell_type": "code",
   "execution_count": 4,
   "id": "aecb8682",
   "metadata": {},
   "outputs": [],
   "source": [
    "llm = AzureChatOpenAI(\n",
    "    azure_deployment=\"gpt-4o\",\n",
    "    api_version=\"2024-06-01\",\n",
    "    temperature=0.5\n",
    ")"
   ]
  },
  {
   "cell_type": "code",
   "execution_count": 5,
   "id": "90e1cb59",
   "metadata": {},
   "outputs": [],
   "source": [
    "def ask_q(state:State) -> State:\n",
    "    print(f\"\\n---------------->ENTERING ask_q()\")\n",
    "    q = \"What's your question?\"\n",
    "    print(q)\n",
    "    # この input() には、ユーザーが入力した内容が入る\n",
    "    return State(messages=[AIMessage(q), HumanMessage(input())])"
   ]
  },
  {
   "cell_type": "code",
   "execution_count": 6,
   "id": "f5dc8022",
   "metadata": {},
   "outputs": [
    {
     "name": "stdout",
     "output_type": "stream",
     "text": [
      "\n",
      "---------------->ENTERING ask_q()\n",
      "What's your question?\n",
      "result: {'messages': [AIMessage(content=\"What's your question?\", additional_kwargs={}, response_metadata={}), HumanMessage(content='where was he born?', additional_kwargs={}, response_metadata={})]}\n"
     ]
    }
   ],
   "source": [
    "state = State(messages=[])\n",
    "result = ask_q(state)\n",
    "print(f\"result: {result}\")"
   ]
  },
  {
   "cell_type": "code",
   "execution_count": 7,
   "id": "a9eeab34",
   "metadata": {},
   "outputs": [],
   "source": [
    "def chatbot(state: State) -> State:\n",
    "    print(f\"\\n---------------->ENTERING chatbot()\")\n",
    "    system_message = f'''\n",
    "    Here's a quick summary of what's been discussed so far:\n",
    "    {state.get(\"summary\",\"\")}\n",
    "    \n",
    "    Keep this in mind as you answer next question\n",
    "    '''\n",
    "    # print(f\"state: {state}\")\n",
    "    # state は Dict 型なので、state[\"messages\"] のようにアクセスする\n",
    "    res = llm.invoke([SystemMessage(content=system_message)] + state[\"messages\"])\n",
    "    res.pretty_print()\n",
    "    \n",
    "    return State(messages=[res])"
   ]
  },
  {
   "cell_type": "code",
   "execution_count": 8,
   "id": "f3024f81",
   "metadata": {},
   "outputs": [
    {
     "name": "stdout",
     "output_type": "stream",
     "text": [
      "\n",
      "---------------->ENTERING chatbot()\n",
      "==================================\u001b[1m Ai Message \u001b[0m==================================\n",
      "\n",
      "Sure! Please go ahead and ask your next question. I'll do my best to help!\n"
     ]
    },
    {
     "data": {
      "text/plain": [
       "{'messages': [AIMessage(content=\"Sure! Please go ahead and ask your next question. I'll do my best to help!\", additional_kwargs={'refusal': None}, response_metadata={'token_usage': {'completion_tokens': 19, 'prompt_tokens': 33, 'total_tokens': 52, 'completion_tokens_details': {'accepted_prediction_tokens': 0, 'audio_tokens': 0, 'reasoning_tokens': 0, 'rejected_prediction_tokens': 0}, 'prompt_tokens_details': {'audio_tokens': 0, 'cached_tokens': 0}}, 'model_name': 'gpt-4o-2024-11-20', 'system_fingerprint': 'fp_ee1d74bde0', 'id': 'chatcmpl-C8nAqeX9xKmSADz2jFM8XKKTEhIoy', 'service_tier': None, 'prompt_filter_results': [{'prompt_index': 0, 'content_filter_results': {}}], 'finish_reason': 'stop', 'logprobs': None, 'content_filter_results': {'hate': {'filtered': False, 'severity': 'safe'}, 'self_harm': {'filtered': False, 'severity': 'safe'}, 'sexual': {'filtered': False, 'severity': 'safe'}, 'violence': {'filtered': False, 'severity': 'safe'}}}, id='run--eb928bcb-3ff8-4e7d-9585-0c6df4ae9e58-0', usage_metadata={'input_tokens': 33, 'output_tokens': 19, 'total_tokens': 52, 'input_token_details': {'audio': 0, 'cache_read': 0}, 'output_token_details': {'audio': 0, 'reasoning': 0}})]}"
      ]
     },
     "execution_count": 8,
     "metadata": {},
     "output_type": "execute_result"
    }
   ],
   "source": [
    "chatbot(state)"
   ]
  },
  {
   "cell_type": "code",
   "execution_count": 9,
   "id": "ad3f871f",
   "metadata": {},
   "outputs": [],
   "source": [
    "def summarize(state:State) -> State:\n",
    "    print(f\"\\n---------------->ENTERING summarize()\")\n",
    "    \n",
    "    new_conversation = \"\"\n",
    "    for i in state[\"messages\"]:\n",
    "        if isinstance(i, RemoveMessage):\n",
    "            continue\n",
    "        new_conversation += f\"{i.type}: {i.content}\\n\"\n",
    "    print(f\"new_conversation: {new_conversation}\")\n",
    "    \n",
    "    summary_instruction = f'''\n",
    "    Respond only with the summary\n",
    "    Previous Summary:\n",
    "    {state.get(\"summary\",\"\")}\n",
    "\n",
    "    New Conversation: {new_conversation}\n",
    "    '''\n",
    "    \n",
    "    print(summary_instruction)\n",
    "    \n",
    "    res = llm.invoke([SystemMessage(content=summary_instruction)] + state[\"messages\"])\n",
    "    res.pretty_print()\n",
    "\n",
    "    remove_messages = [RemoveMessage(id = i.id) for i in state[\"messages\"][:]]\n",
    "    return State(messages=remove_messages, summary=res.content)"
   ]
  },
  {
   "cell_type": "code",
   "execution_count": 10,
   "id": "cb251d7c",
   "metadata": {},
   "outputs": [
    {
     "name": "stdout",
     "output_type": "stream",
     "text": [
      "\n",
      "---------------->ENTERING summarize()\n",
      "new_conversation: \n",
      "\n",
      "    Respond only with the summary\n",
      "    Previous Summary:\n",
      "    \n",
      "\n",
      "    New Conversation: \n",
      "    \n",
      "==================================\u001b[1m Ai Message \u001b[0m==================================\n",
      "\n",
      "Sure! How can I assist you today?\n"
     ]
    },
    {
     "data": {
      "text/plain": [
       "{'messages': [], 'summary': 'Sure! How can I assist you today?'}"
      ]
     },
     "execution_count": 10,
     "metadata": {},
     "output_type": "execute_result"
    }
   ],
   "source": [
    "summarize(state)"
   ]
  },
  {
   "cell_type": "code",
   "execution_count": 11,
   "id": "3c87cbd4",
   "metadata": {},
   "outputs": [
    {
     "data": {
      "text/plain": [
       "<langgraph.graph.state.StateGraph at 0x1f1973626d0>"
      ]
     },
     "execution_count": 11,
     "metadata": {},
     "output_type": "execute_result"
    }
   ],
   "source": [
    "graph = StateGraph(State)\n",
    "graph.add_node(\"ask_q\", ask_q)\n",
    "graph.add_node(\"chatbot\", chatbot)\n",
    "graph.add_node(\"summarize\", summarize)\n",
    "\n",
    "graph.add_edge(START, \"ask_q\")\n",
    "graph.add_edge(\"ask_q\", \"chatbot\")\n",
    "graph.add_edge(\"chatbot\", \"summarize\")\n",
    "graph.add_edge(\"summarize\", END)"
   ]
  },
  {
   "cell_type": "code",
   "execution_count": 12,
   "id": "d0965a11",
   "metadata": {},
   "outputs": [],
   "source": [
    "db_path = './sqlite/test.db'\n",
    "con = sqlite3.connect(db_path, check_same_thread=False)"
   ]
  },
  {
   "cell_type": "code",
   "execution_count": 13,
   "id": "fd0a17c7",
   "metadata": {},
   "outputs": [
    {
     "data": {
      "image/png": "[encoded data removed]",
      "text/plain": [
       "<langgraph.graph.state.CompiledStateGraph object at 0x000001F197363BD0>"
      ]
     },
     "execution_count": 13,
     "metadata": {},
     "output_type": "execute_result"
    }
   ],
   "source": [
    "# checkpoint = InMemorySaver()\n",
    "checkpointer = SqliteSaver(con)\n",
    "\n",
    "graph_compiled = graph.compile(checkpointer)\n",
    "graph_compiled"
   ]
  },
  {
   "cell_type": "code",
   "execution_count": 14,
   "id": "d2758a2a",
   "metadata": {},
   "outputs": [],
   "source": [
    "config1 = {\"configurable\":{\"thread_id\":\"1\"}}"
   ]
  },
  {
   "cell_type": "code",
   "execution_count": 15,
   "id": "2f1681fb",
   "metadata": {},
   "outputs": [
    {
     "name": "stdout",
     "output_type": "stream",
     "text": [
      "\n",
      "---------------->ENTERING ask_q()\n",
      "What's your question?\n",
      "\n",
      "---------------->ENTERING chatbot()\n",
      "==================================\u001b[1m Ai Message \u001b[0m==================================\n",
      "\n",
      "Guido van Rossum was born in **The Hague**, Netherlands, on **January 31, 1956**.\n",
      "\n",
      "---------------->ENTERING summarize()\n",
      "new_conversation: ai: What's your question?\n",
      "human: where was he born?\n",
      "ai: Guido van Rossum was born in **The Hague**, Netherlands, on **January 31, 1956**.\n",
      "\n",
      "\n",
      "    Respond only with the summary\n",
      "    Previous Summary:\n",
      "    The creator of the Python programming language is **Guido van Rossum**, a Dutch programmer, who first released it in 1991.\n",
      "\n",
      "    New Conversation: ai: What's your question?\n",
      "human: where was he born?\n",
      "ai: Guido van Rossum was born in **The Hague**, Netherlands, on **January 31, 1956**.\n",
      "\n",
      "    \n",
      "==================================\u001b[1m Ai Message \u001b[0m==================================\n",
      "\n",
      "Guido van Rossum was born in **The Hague**, Netherlands.\n"
     ]
    },
    {
     "data": {
      "text/plain": [
       "{'messages': [],\n",
       " 'summary': 'Guido van Rossum was born in **The Hague**, Netherlands.'}"
      ]
     },
     "execution_count": 15,
     "metadata": {},
     "output_type": "execute_result"
    }
   ],
   "source": [
    "graph_compiled.invoke(State(),config1)"
   ]
  },
  {
   "cell_type": "code",
   "execution_count": 16,
   "id": "71c36e8f",
   "metadata": {},
   "outputs": [],
   "source": [
    "graph_state = graph_compiled.get_state_history(config1)"
   ]
  },
  {
   "cell_type": "code",
   "execution_count": 17,
   "id": "a5da5e8c",
   "metadata": {},
   "outputs": [
    {
     "data": {
      "text/plain": [
       "<generator object Pregel.get_state_history at 0x000001F1972DCB40>"
      ]
     },
     "execution_count": 17,
     "metadata": {},
     "output_type": "execute_result"
    }
   ],
   "source": [
    "graph_state"
   ]
  },
  {
   "cell_type": "code",
   "execution_count": null,
   "id": "15518eb1",
   "metadata": {},
   "outputs": [],
   "source": []
  }
 ],
 "metadata": {
  "kernelspec": {
   "display_name": "langgraph_env",
   "language": "python",
   "name": "python3"
  },
  "language_info": {
   "codemirror_mode": {
    "name": "ipython",
    "version": 3
   },
   "file_extension": ".py",
   "mimetype": "text/x-python",
   "name": "python",
   "nbconvert_exporter": "python",
   "pygments_lexer": "ipython3",
   "version": "3.11.11"
  }
 },
 "nbformat": 4,
 "nbformat_minor": 5
}

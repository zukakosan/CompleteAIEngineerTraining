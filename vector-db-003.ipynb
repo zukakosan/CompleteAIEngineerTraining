{
 "cells": [
  {
   "cell_type": "code",
   "execution_count": 8,
   "id": "597416bf",
   "metadata": {},
   "outputs": [],
   "source": [
    "import pandas as pd\n",
    "import os\n",
    "from pinecone import Pinecone, ServerlessSpec\n",
    "from dotenv import load_dotenv, find_dotenv\n",
    "import pinecone"
   ]
  },
  {
   "cell_type": "code",
   "execution_count": 2,
   "id": "a22f3969",
   "metadata": {},
   "outputs": [],
   "source": [
    "files = pd.read_csv(\"course_descriptions.csv\", encoding=\"ANSI\")"
   ]
  },
  {
   "cell_type": "code",
   "execution_count": 3,
   "id": "66b322e1",
   "metadata": {},
   "outputs": [],
   "source": [
    "def create_course_description(row):\n",
    "    return f'''The course name is {row[\"course_name\"]}, the slug is {row[\"course_slug\"]}'''"
   ]
  },
  {
   "cell_type": "code",
   "execution_count": 4,
   "id": "aa226ddc",
   "metadata": {},
   "outputs": [
    {
     "name": "stdout",
     "output_type": "stream",
     "text": [
      "0      The course name is Introduction to Tableau, th...\n",
      "1      The course name is The Complete Data Visualiza...\n",
      "2      The course name is Introduction to R Programmi...\n",
      "3      The course name is Data Preprocessing with Num...\n",
      "4      The course name is Introduction to Data and Da...\n",
      "                             ...                        \n",
      "101    The course name is Intro to NLP for AI, the sl...\n",
      "102    The course name is Data Analysis with ChatGPT,...\n",
      "103    The course name is ChatGPT for Data Science, t...\n",
      "104    The course name is Intro to LLMs, the slug is ...\n",
      "105    The course name is Growth Analysis with SQL, P...\n",
      "Name: course_description_new, Length: 106, dtype: object\n"
     ]
    }
   ],
   "source": [
    "files['course_description_new'] = files.apply(create_course_description, axis=1)\n",
    "print(files['course_description_new'])"
   ]
  },
  {
   "cell_type": "code",
   "execution_count": 6,
   "id": "c949fa66",
   "metadata": {},
   "outputs": [],
   "source": [
    "%load_ext dotenv\n",
    "%dotenv"
   ]
  },
  {
   "cell_type": "code",
   "execution_count": 7,
   "id": "42302d30",
   "metadata": {},
   "outputs": [
    {
     "data": {
      "text/plain": [
       "True"
      ]
     },
     "execution_count": 7,
     "metadata": {},
     "output_type": "execute_result"
    }
   ],
   "source": [
    "load_dotenv(find_dotenv(), override=True)"
   ]
  },
  {
   "cell_type": "code",
   "execution_count": 9,
   "id": "86bda47f",
   "metadata": {},
   "outputs": [],
   "source": [
    "pc = Pinecone(api_key=os.getenv(\"PINECONE_API_KEY\"), environment=os.getenv(\"PINECONE_ENVIRONMENT\"))"
   ]
  },
  {
   "cell_type": "code",
   "execution_count": 10,
   "id": "6232a5e1",
   "metadata": {},
   "outputs": [],
   "source": [
    "index_name = \"my-index\"\n",
    "dimension = 384\n",
    "metric = \"cosine\"\n"
   ]
  },
  {
   "cell_type": "code",
   "execution_count": 11,
   "id": "a06c7894",
   "metadata": {},
   "outputs": [
    {
     "name": "stdout",
     "output_type": "stream",
     "text": [
      "Index 'my-index' has been deleted.\n"
     ]
    }
   ],
   "source": [
    "if index_name in [index.name for index in pc.list_indexes()]:\n",
    "    pc.delete_index(index_name)\n",
    "    print(f\"Index '{index_name}' has been deleted.\")\n",
    "else:\n",
    "    print(f\"{index_name} is not in the index list.\")"
   ]
  },
  {
   "cell_type": "code",
   "execution_count": 12,
   "id": "28e8f933",
   "metadata": {},
   "outputs": [
    {
     "data": {
      "text/plain": [
       "{\n",
       "    \"name\": \"my-index\",\n",
       "    \"metric\": \"cosine\",\n",
       "    \"host\": \"my-index-3rn8fh8.svc.aped-4627-b74a.pinecone.io\",\n",
       "    \"spec\": {\n",
       "        \"serverless\": {\n",
       "            \"cloud\": \"aws\",\n",
       "            \"region\": \"us-east-1\"\n",
       "        }\n",
       "    },\n",
       "    \"status\": {\n",
       "        \"ready\": true,\n",
       "        \"state\": \"Ready\"\n",
       "    },\n",
       "    \"vector_type\": \"dense\",\n",
       "    \"dimension\": 384,\n",
       "    \"deletion_protection\": \"disabled\",\n",
       "    \"tags\": null\n",
       "}"
      ]
     },
     "execution_count": 12,
     "metadata": {},
     "output_type": "execute_result"
    }
   ],
   "source": [
    "pc.create_index(\n",
    "    name=index_name,\n",
    "    dimension=dimension,\n",
    "    metric=metric,\n",
    "    spec=ServerlessSpec(\n",
    "        cloud=\"aws\",\n",
    "        region=\"us-east-1\"\n",
    "    )\n",
    ")"
   ]
  },
  {
   "cell_type": "code",
   "execution_count": 13,
   "id": "eada0251",
   "metadata": {},
   "outputs": [
    {
     "name": "stderr",
     "output_type": "stream",
     "text": [
      "c:\\Users\\koishizu\\AppData\\Local\\anaconda3\\envs\\langgraph_env\\Lib\\site-packages\\tqdm\\auto.py:21: TqdmWarning: IProgress not found. Please update jupyter and ipywidgets. See https://ipywidgets.readthedocs.io/en/stable/user_install.html\n",
      "  from .autonotebook import tqdm as notebook_tqdm\n"
     ]
    }
   ],
   "source": [
    "index = pc.Index(index_name)"
   ]
  },
  {
   "cell_type": "code",
   "execution_count": null,
   "id": "aba513cf",
   "metadata": {},
   "outputs": [],
   "source": []
  }
 ],
 "metadata": {
  "kernelspec": {
   "display_name": "langgraph_env",
   "language": "python",
   "name": "python3"
  },
  "language_info": {
   "codemirror_mode": {
    "name": "ipython",
    "version": 3
   },
   "file_extension": ".py",
   "mimetype": "text/x-python",
   "name": "python",
   "nbconvert_exporter": "python",
   "pygments_lexer": "ipython3",
   "version": "3.11.11"
  }
 },
 "nbformat": 4,
 "nbformat_minor": 5
}

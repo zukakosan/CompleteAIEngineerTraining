{
 "cells": [
  {
   "cell_type": "code",
   "execution_count": 2,
   "id": "33f498bc",
   "metadata": {},
   "outputs": [
    {
     "name": "stdout",
     "output_type": "stream",
     "text": [
      "The dotenv extension is already loaded. To reload it, use:\n",
      "  %reload_ext dotenv\n",
      "The mypy_ipython extension is already loaded. To reload it, use:\n",
      "  %reload_ext mypy_ipython\n"
     ]
    }
   ],
   "source": [
    "%load_ext dotenv\n",
    "%dotenv\n",
    "%load_ext mypy_ipython\n",
    "\n",
    "from langgraph.graph import START, END, StateGraph, add_messages, MessagesState\n",
    "from typing_extensions import TypedDict\n",
    "from langchain_openai.chat_models import AzureChatOpenAI\n",
    "from langchain_core.messages import HumanMessage, BaseMessage, AIMessage, RemoveMessage\n",
    "from langchain_core.runnables import Runnable\n",
    "from collections.abc import Sequence\n",
    "from typing import Literal, Annotated"
   ]
  },
  {
   "cell_type": "code",
   "execution_count": 2,
   "id": "6f13780f",
   "metadata": {},
   "outputs": [],
   "source": [
    "class State(TypedDict):\n",
    "    messages: Sequence[BaseMessage]"
   ]
  },
  {
   "cell_type": "code",
   "execution_count": 50,
   "id": "c453221c",
   "metadata": {},
   "outputs": [],
   "source": [
    "def ask_q(state: State) -> State:\n",
    "    print(\"What is your question?\")\n",
    "    print(f\"state: {state}\")\n",
    "    return State(messages=[HumanMessage(input())])"
   ]
  },
  {
   "cell_type": "code",
   "execution_count": 51,
   "id": "904be691",
   "metadata": {},
   "outputs": [],
   "source": [
    "def chatbot(state:State) -> State:\n",
    "    res = llm.invoke(state[\"messages\"])\n",
    "    print(f\"state: {state}\")\n",
    "    return State(messages=[res])"
   ]
  },
  {
   "cell_type": "code",
   "execution_count": 64,
   "id": "db37b5bc",
   "metadata": {},
   "outputs": [],
   "source": [
    "def ask_another_q(state:State) -> State:\n",
    "    print(f\"state: {state}\")\n",
    "    print(\"Do you have another question? (yes/no)\")\n",
    "    return State(messages=[HumanMessage(input().strip().lower())])   # yes/no を返すだけ"
   ]
  },
  {
   "cell_type": "code",
   "execution_count": 65,
   "id": "6734a3a8",
   "metadata": {},
   "outputs": [],
   "source": [
    "llm = AzureChatOpenAI(\n",
    "    azure_deployment=\"gpt-4o\",\n",
    "    api_version=\"2025-01-01-preview\",\n",
    "    temperature=0,\n",
    "    max_tokens=None,\n",
    "    timeout=None,\n",
    "    max_retries=6\n",
    ")"
   ]
  },
  {
   "cell_type": "code",
   "execution_count": 66,
   "id": "e0d52e46",
   "metadata": {},
   "outputs": [
    {
     "name": "stdout",
     "output_type": "stream",
     "text": [
      "What is your question?\n",
      "state: {'messages': [HumanMessage(content='Could you tell me why birds can fly?', additional_kwargs={}, response_metadata={})]}\n"
     ]
    },
    {
     "data": {
      "text/plain": [
       "{'messages': [HumanMessage(content='', additional_kwargs={}, response_metadata={})]}"
      ]
     },
     "execution_count": 66,
     "metadata": {},
     "output_type": "execute_result"
    }
   ],
   "source": [
    "state = State(messages=[HumanMessage(\"Could you tell me why birds can fly?\")])\n",
    "ask_q(state)"
   ]
  },
  {
   "cell_type": "code",
   "execution_count": 67,
   "id": "7e95982a",
   "metadata": {},
   "outputs": [],
   "source": [
    "# 次の質問も聞くか確認するだけの関数\n",
    "def routing_func(state:State) -> bool:\n",
    "    print(f\"state: {state}\")\n",
    "\n",
    "    return state[\"messages\"][0].content == \"yes\""
   ]
  },
  {
   "cell_type": "code",
   "execution_count": 68,
   "id": "74755027",
   "metadata": {},
   "outputs": [],
   "source": [
    "graph = StateGraph(State)\n",
    "\n",
    "graph.add_node(\"ask_q\", ask_q)\n",
    "graph.add_node(\"chatbot\", chatbot)\n",
    "graph.add_node(\"ask_another_q\", ask_another_q)\n",
    "\n",
    "graph.add_edge(START, \"ask_q\")\n",
    "graph.add_edge(\"ask_q\", \"chatbot\")\n",
    "graph.add_edge(\"chatbot\", \"ask_another_q\")\n",
    "graph.add_conditional_edges(source=\"ask_another_q\", path=routing_func, path_map={True:\"ask_q\", False:\"__end__\"})\n",
    "\n",
    "graph_compiled = graph.compile()"
   ]
  },
  {
   "cell_type": "code",
   "execution_count": 69,
   "id": "db8b71c1",
   "metadata": {},
   "outputs": [
    {
     "data": {
      "image/png": "[encoded data removed]",
      "text/plain": [
       "<langgraph.graph.state.CompiledStateGraph object at 0x000002B0573DD810>"
      ]
     },
     "execution_count": 69,
     "metadata": {},
     "output_type": "execute_result"
    }
   ],
   "source": [
    "graph_compiled"
   ]
  },
  {
   "cell_type": "code",
   "execution_count": 70,
   "id": "3398d047",
   "metadata": {},
   "outputs": [
    {
     "name": "stdout",
     "output_type": "stream",
     "text": [
      "What is your question?\n",
      "state: {'messages': []}\n",
      "state: {'messages': [HumanMessage(content='hi', additional_kwargs={}, response_metadata={})]}\n",
      "state: {'messages': [AIMessage(content='Hello! 😊 How can I assist you today?', additional_kwargs={'refusal': None}, response_metadata={'token_usage': {'completion_tokens': 11, 'prompt_tokens': 8, 'total_tokens': 19, 'completion_tokens_details': {'accepted_prediction_tokens': 0, 'audio_tokens': 0, 'reasoning_tokens': 0, 'rejected_prediction_tokens': 0}, 'prompt_tokens_details': {'audio_tokens': 0, 'cached_tokens': 0}}, 'model_name': 'gpt-4o-2024-11-20', 'system_fingerprint': 'fp_ee1d74bde0', 'id': 'chatcmpl-C8R8tqIzpdVbx9O8UI7HOSYzbj3Zr', 'service_tier': None, 'prompt_filter_results': [{'prompt_index': 0, 'content_filter_results': {'hate': {'filtered': False, 'severity': 'safe'}, 'jailbreak': {'filtered': False, 'detected': False}, 'self_harm': {'filtered': False, 'severity': 'safe'}, 'sexual': {'filtered': False, 'severity': 'safe'}, 'violence': {'filtered': False, 'severity': 'safe'}}}], 'finish_reason': 'stop', 'logprobs': None, 'content_filter_results': {'hate': {'filtered': False, 'severity': 'safe'}, 'protected_material_code': {'filtered': False, 'detected': False}, 'protected_material_text': {'filtered': False, 'detected': False}, 'self_harm': {'filtered': False, 'severity': 'safe'}, 'sexual': {'filtered': False, 'severity': 'safe'}, 'violence': {'filtered': False, 'severity': 'safe'}}}, id='run--93f8d90b-b996-44c1-bea9-123c9c307a86-0', usage_metadata={'input_tokens': 8, 'output_tokens': 11, 'total_tokens': 19, 'input_token_details': {'audio': 0, 'cache_read': 0}, 'output_token_details': {'audio': 0, 'reasoning': 0}})]}\n",
      "Do you have another question? (yes/no)\n",
      "state: {'messages': [HumanMessage(content='yes', additional_kwargs={}, response_metadata={})]}\n",
      "What is your question?\n",
      "state: {'messages': [HumanMessage(content='yes', additional_kwargs={}, response_metadata={})]}\n",
      "state: {'messages': [HumanMessage(content='hi', additional_kwargs={}, response_metadata={})]}\n",
      "state: {'messages': [AIMessage(content='Hello! How can I assist you today? 😊', additional_kwargs={'refusal': None}, response_metadata={'token_usage': {'completion_tokens': 11, 'prompt_tokens': 8, 'total_tokens': 19, 'completion_tokens_details': {'accepted_prediction_tokens': 0, 'audio_tokens': 0, 'reasoning_tokens': 0, 'rejected_prediction_tokens': 0}, 'prompt_tokens_details': {'audio_tokens': 0, 'cached_tokens': 0}}, 'model_name': 'gpt-4o-2024-11-20', 'system_fingerprint': 'fp_ee1d74bde0', 'id': 'chatcmpl-C8R92nYpQKQohUdM7NklAxgZoKJK6', 'service_tier': None, 'prompt_filter_results': [{'prompt_index': 0, 'content_filter_results': {'hate': {'filtered': False, 'severity': 'safe'}, 'jailbreak': {'filtered': False, 'detected': False}, 'self_harm': {'filtered': False, 'severity': 'safe'}, 'sexual': {'filtered': False, 'severity': 'safe'}, 'violence': {'filtered': False, 'severity': 'safe'}}}], 'finish_reason': 'stop', 'logprobs': None, 'content_filter_results': {'hate': {'filtered': False, 'severity': 'safe'}, 'protected_material_code': {'filtered': False, 'detected': False}, 'protected_material_text': {'filtered': False, 'detected': False}, 'self_harm': {'filtered': False, 'severity': 'safe'}, 'sexual': {'filtered': False, 'severity': 'safe'}, 'violence': {'filtered': False, 'severity': 'safe'}}}, id='run--cb468a47-6446-4fa9-9c58-fed7ae340e47-0', usage_metadata={'input_tokens': 8, 'output_tokens': 11, 'total_tokens': 19, 'input_token_details': {'audio': 0, 'cache_read': 0}, 'output_token_details': {'audio': 0, 'reasoning': 0}})]}\n",
      "Do you have another question? (yes/no)\n",
      "state: {'messages': [HumanMessage(content='yes', additional_kwargs={}, response_metadata={})]}\n",
      "What is your question?\n",
      "state: {'messages': [HumanMessage(content='yes', additional_kwargs={}, response_metadata={})]}\n",
      "state: {'messages': [HumanMessage(content='hi', additional_kwargs={}, response_metadata={})]}\n",
      "state: {'messages': [AIMessage(content='Hello! How can I assist you today? 😊', additional_kwargs={'refusal': None}, response_metadata={'token_usage': {'completion_tokens': 11, 'prompt_tokens': 8, 'total_tokens': 19, 'completion_tokens_details': {'accepted_prediction_tokens': 0, 'audio_tokens': 0, 'reasoning_tokens': 0, 'rejected_prediction_tokens': 0}, 'prompt_tokens_details': {'audio_tokens': 0, 'cached_tokens': 0}}, 'model_name': 'gpt-4o-2024-11-20', 'system_fingerprint': 'fp_3eed281ddb', 'id': 'chatcmpl-C8R97WcL2r8f79XT3eSyUiy7g8gEj', 'service_tier': None, 'prompt_filter_results': [{'prompt_index': 0, 'content_filter_results': {'hate': {'filtered': False, 'severity': 'safe'}, 'jailbreak': {'filtered': False, 'detected': False}, 'self_harm': {'filtered': False, 'severity': 'safe'}, 'sexual': {'filtered': False, 'severity': 'safe'}, 'violence': {'filtered': False, 'severity': 'safe'}}}], 'finish_reason': 'stop', 'logprobs': None, 'content_filter_results': {'hate': {'filtered': False, 'severity': 'safe'}, 'protected_material_code': {'filtered': False, 'detected': False}, 'protected_material_text': {'filtered': False, 'detected': False}, 'self_harm': {'filtered': False, 'severity': 'safe'}, 'sexual': {'filtered': False, 'severity': 'safe'}, 'violence': {'filtered': False, 'severity': 'safe'}}}, id='run--cceeccdd-94f1-4cec-ae37-aad497064c42-0', usage_metadata={'input_tokens': 8, 'output_tokens': 11, 'total_tokens': 19, 'input_token_details': {'audio': 0, 'cache_read': 0}, 'output_token_details': {'audio': 0, 'reasoning': 0}})]}\n",
      "Do you have another question? (yes/no)\n",
      "state: {'messages': [HumanMessage(content='no', additional_kwargs={}, response_metadata={})]}\n"
     ]
    },
    {
     "data": {
      "text/plain": [
       "{'messages': [HumanMessage(content='no', additional_kwargs={}, response_metadata={})]}"
      ]
     },
     "execution_count": 70,
     "metadata": {},
     "output_type": "execute_result"
    }
   ],
   "source": [
    "graph_compiled.invoke(State(messages=[]))"
   ]
  },
  {
   "cell_type": "code",
   "execution_count": null,
   "id": "d5616bbd",
   "metadata": {},
   "outputs": [],
   "source": []
  }
 ],
 "metadata": {
  "kernelspec": {
   "display_name": "langgraph_env",
   "language": "python",
   "name": "python3"
  },
  "language_info": {
   "codemirror_mode": {
    "name": "ipython",
    "version": 3
   },
   "file_extension": ".py",
   "mimetype": "text/x-python",
   "name": "python",
   "nbconvert_exporter": "python",
   "pygments_lexer": "ipython3",
   "version": "3.11.11"
  }
 },
 "nbformat": 4,
 "nbformat_minor": 5
}
